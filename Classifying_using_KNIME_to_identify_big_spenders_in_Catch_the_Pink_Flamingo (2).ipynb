{
  "metadata": {
    "kernelspec": {
      "language": "python",
      "display_name": "Python 3",
      "name": "python3"
    },
    "language_info": {
      "name": "python",
      "version": "3.11.11",
      "mimetype": "text/x-python",
      "codemirror_mode": {
        "name": "ipython",
        "version": 3
      },
      "pygments_lexer": "ipython3",
      "nbconvert_exporter": "python",
      "file_extension": ".py"
    },
    "kaggle": {
      "accelerator": "none",
      "dataSources": [
        {
          "sourceId": 646559,
          "sourceType": "datasetVersion",
          "datasetId": 320822
        }
      ],
      "dockerImageVersionId": 31040,
      "isInternetEnabled": false,
      "language": "python",
      "sourceType": "notebook",
      "isGpuEnabled": false
    },
    "colab": {
      "provenance": []
    }
  },
  "nbformat_minor": 0,
  "nbformat": 4,
  "cells": [
    {
      "cell_type": "markdown",
      "source": [
        "# Cài đặt thư viện cần thiết"
      ],
      "metadata": {
        "id": "w1Z9jQ3NhLSv"
      }
    },
    {
      "cell_type": "code",
      "source": [
        "pip install matplotlib scikit-learn seaborn"
      ],
      "metadata": {
        "trusted": true,
        "execution": {
          "iopub.status.busy": "2025-05-17T07:00:07.428594Z",
          "iopub.execute_input": "2025-05-17T07:00:07.428963Z",
          "iopub.status.idle": "2025-05-17T07:00:11.398693Z",
          "shell.execute_reply.started": "2025-05-17T07:00:07.428939Z",
          "shell.execute_reply": "2025-05-17T07:00:11.397395Z"
        },
        "colab": {
          "base_uri": "https://localhost:8080/"
        },
        "id": "cBAKifnBdpEg",
        "outputId": "037daa18-2975-403e-debd-20afc955bb3a"
      },
      "outputs": [
        {
          "output_type": "stream",
          "name": "stdout",
          "text": [
            "Requirement already satisfied: matplotlib in /usr/local/lib/python3.11/dist-packages (3.10.0)\n",
            "Requirement already satisfied: scikit-learn in /usr/local/lib/python3.11/dist-packages (1.6.1)\n",
            "Requirement already satisfied: seaborn in /usr/local/lib/python3.11/dist-packages (0.13.2)\n",
            "Requirement already satisfied: contourpy>=1.0.1 in /usr/local/lib/python3.11/dist-packages (from matplotlib) (1.3.2)\n",
            "Requirement already satisfied: cycler>=0.10 in /usr/local/lib/python3.11/dist-packages (from matplotlib) (0.12.1)\n",
            "Requirement already satisfied: fonttools>=4.22.0 in /usr/local/lib/python3.11/dist-packages (from matplotlib) (4.58.0)\n",
            "Requirement already satisfied: kiwisolver>=1.3.1 in /usr/local/lib/python3.11/dist-packages (from matplotlib) (1.4.8)\n",
            "Requirement already satisfied: numpy>=1.23 in /usr/local/lib/python3.11/dist-packages (from matplotlib) (2.0.2)\n",
            "Requirement already satisfied: packaging>=20.0 in /usr/local/lib/python3.11/dist-packages (from matplotlib) (24.2)\n",
            "Requirement already satisfied: pillow>=8 in /usr/local/lib/python3.11/dist-packages (from matplotlib) (11.2.1)\n",
            "Requirement already satisfied: pyparsing>=2.3.1 in /usr/local/lib/python3.11/dist-packages (from matplotlib) (3.2.3)\n",
            "Requirement already satisfied: python-dateutil>=2.7 in /usr/local/lib/python3.11/dist-packages (from matplotlib) (2.9.0.post0)\n",
            "Requirement already satisfied: scipy>=1.6.0 in /usr/local/lib/python3.11/dist-packages (from scikit-learn) (1.15.3)\n",
            "Requirement already satisfied: joblib>=1.2.0 in /usr/local/lib/python3.11/dist-packages (from scikit-learn) (1.5.0)\n",
            "Requirement already satisfied: threadpoolctl>=3.1.0 in /usr/local/lib/python3.11/dist-packages (from scikit-learn) (3.6.0)\n",
            "Requirement already satisfied: pandas>=1.2 in /usr/local/lib/python3.11/dist-packages (from seaborn) (2.2.2)\n",
            "Requirement already satisfied: pytz>=2020.1 in /usr/local/lib/python3.11/dist-packages (from pandas>=1.2->seaborn) (2025.2)\n",
            "Requirement already satisfied: tzdata>=2022.7 in /usr/local/lib/python3.11/dist-packages (from pandas>=1.2->seaborn) (2025.2)\n",
            "Requirement already satisfied: six>=1.5 in /usr/local/lib/python3.11/dist-packages (from python-dateutil>=2.7->matplotlib) (1.17.0)\n"
          ]
        }
      ],
      "execution_count": null
    },
    {
      "cell_type": "code",
      "source": [
        "!apt-get install openjdk-8-jdk-headless -qq > /dev/null\n",
        "!pip install pyspark findspark"
      ],
      "metadata": {
        "colab": {
          "base_uri": "https://localhost:8080/"
        },
        "id": "de-TLntMhQ63",
        "outputId": "f17b5d34-978d-40dc-c615-ceb4abc21443"
      },
      "execution_count": null,
      "outputs": [
        {
          "output_type": "stream",
          "name": "stdout",
          "text": [
            "Requirement already satisfied: pyspark in /usr/local/lib/python3.11/dist-packages (3.5.1)\n",
            "Requirement already satisfied: findspark in /usr/local/lib/python3.11/dist-packages (2.0.1)\n",
            "Requirement already satisfied: py4j==0.10.9.7 in /usr/local/lib/python3.11/dist-packages (from pyspark) (0.10.9.7)\n"
          ]
        }
      ]
    },
    {
      "cell_type": "code",
      "source": [
        "import findspark\n",
        "findspark.init()\n",
        "findspark.find()\n",
        "from pyspark.sql import SparkSession\n",
        "spark = SparkSession.builder\\\n",
        "      .appName('data') \\\n",
        "      .getOrCreate()"
      ],
      "metadata": {
        "id": "gxDKjgK7hSt1"
      },
      "execution_count": null,
      "outputs": []
    },
    {
      "cell_type": "code",
      "source": [
        "import os\n",
        "for dirname, _, filenames in os.walk('/kaggle/input'):\n",
        "    for filename in filenames:\n",
        "        print(os.path.join(dirname, filename))"
      ],
      "metadata": {
        "_uuid": "8f2839f25d086af736a60e9eeb907d3b93b6e0e5",
        "_cell_guid": "b1076dfc-b9ad-4769-8c92-a6c4dae69d19",
        "trusted": true,
        "execution": {
          "iopub.status.busy": "2025-05-17T07:00:11.400911Z",
          "iopub.execute_input": "2025-05-17T07:00:11.401283Z",
          "iopub.status.idle": "2025-05-17T07:00:11.412090Z",
          "shell.execute_reply.started": "2025-05-17T07:00:11.401254Z",
          "shell.execute_reply": "2025-05-17T07:00:11.410915Z"
        },
        "id": "aH1Xm69hdpEi"
      },
      "outputs": [],
      "execution_count": null
    },
    {
      "cell_type": "code",
      "source": [
        "import matplotlib.pyplot as plt\n",
        "from sklearn.preprocessing import LabelEncoder\n",
        "import seaborn as sns\n",
        "import numpy as np\n",
        "import pandas as pd"
      ],
      "metadata": {
        "trusted": true,
        "execution": {
          "iopub.status.busy": "2025-05-17T07:00:11.413472Z",
          "iopub.execute_input": "2025-05-17T07:00:11.413892Z",
          "iopub.status.idle": "2025-05-17T07:00:11.442199Z",
          "shell.execute_reply.started": "2025-05-17T07:00:11.413862Z",
          "shell.execute_reply": "2025-05-17T07:00:11.441324Z"
        },
        "id": "yhZUxd7BdpEi"
      },
      "outputs": [],
      "execution_count": null
    },
    {
      "cell_type": "code",
      "source": [
        "from pyspark.sql.functions import col, sum, when, isnan"
      ],
      "metadata": {
        "id": "qp_9hvNUiEIt"
      },
      "execution_count": null,
      "outputs": []
    },
    {
      "cell_type": "markdown",
      "source": [
        "Côgn việc : Tiền xử lý dữ liệu (Data Preprocessing)\n",
        "Đọc dữ liệu từ file (CSV/Excel Reader).\n",
        "\n",
        "Kiểm tra thiếu dữ liệu (Missing Value, Column Filter).\n",
        "\n",
        "Chuyển kiểu dữ liệu (String to Number, Number to String nếu cần).\n",
        "\n",
        "Chuẩn hóa hoặc rút gọn cột không cần thiết.\n",
        "\n",
        "Kết quả: Dữ liệu sạch, sẵn sàng để gán nhãn và train model.\n",
        "\n",
        "Link mô tả file input : https://eagronin.github.io/capstone-acquire/"
      ],
      "metadata": {
        "id": "ugzDnzM-dpEj"
      }
    },
    {
      "cell_type": "code",
      "source": [
        "spark_df = spark.read.option(\"header\", True).option(\"inferSchema\", True).csv(\"/content/catchThePinkFlamingo.csv\")"
      ],
      "metadata": {
        "id": "Xl5eu-05hjeH"
      },
      "execution_count": null,
      "outputs": []
    },
    {
      "cell_type": "code",
      "source": [
        "for col in spark_df.columns:\n",
        "    spark_df = spark_df.withColumnRenamed(col, col.strip())"
      ],
      "metadata": {
        "id": "lR7-uGr8f2eU"
      },
      "execution_count": null,
      "outputs": []
    },
    {
      "cell_type": "code",
      "source": [
        "spark_df.show()"
      ],
      "metadata": {
        "id": "9stofjTjf8S-",
        "colab": {
          "base_uri": "https://localhost:8080/"
        },
        "outputId": "680f8fa3-9d9a-44e2-ce83-5204e1d97a55"
      },
      "execution_count": null,
      "outputs": [
        {
          "output_type": "stream",
          "name": "stdout",
          "text": [
            "+------+-------------+---------+------------+----------------+----------+-----------+---------+\n",
            "|userId|userSessionId|teamLevel|platformType|count_gameclicks|count_hits|count_buyId|avg_price|\n",
            "+------+-------------+---------+------------+----------------+----------+-----------+---------+\n",
            "|   812|         5648|        1|     android|              69|         8|       NULL|     NULL|\n",
            "|  1658|         5649|        1|      iphone|              31|         5|       NULL|     NULL|\n",
            "|  1589|         5650|        1|      iphone|              26|         2|       NULL|     NULL|\n",
            "|  1863|         5651|        1|     android|              35|         4|       NULL|     NULL|\n",
            "|   937|         5652|        1|     android|              39|         0|          1|        1|\n",
            "|   342|         5653|        1|     android|              36|         5|       NULL|     NULL|\n",
            "|   849|         5654|        1|      iphone|              40|         5|       NULL|     NULL|\n",
            "|  1277|         5655|        1|     windows|              46|         8|       NULL|     NULL|\n",
            "|  2203|         5656|        1|     android|              68|         6|       NULL|     NULL|\n",
            "|   585|         5657|        1|      iphone|              76|         9|       NULL|     NULL|\n",
            "|  1370|         5658|        1|      iphone|              69|         6|       NULL|     NULL|\n",
            "|  1623|         5659|        1|      iphone|             129|         9|          1|       10|\n",
            "|   881|         5660|        1|      iphone|              36|         6|       NULL|     NULL|\n",
            "|    83|         5661|        1|     android|             102|        14|          1|        5|\n",
            "|   453|         5662|        1|     android|             102|         7|       NULL|     NULL|\n",
            "|  1966|         5663|        1|      iphone|              63|         8|       NULL|     NULL|\n",
            "|  1073|         5664|        1|     android|             141|        21|       NULL|     NULL|\n",
            "|   121|         5665|        1|     android|              39|         4|          1|        3|\n",
            "|   462|         5666|        1|     android|              90|        10|          1|        3|\n",
            "|   708|         5667|        1|      iphone|              32|         2|       NULL|     NULL|\n",
            "+------+-------------+---------+------------+----------------+----------+-----------+---------+\n",
            "only showing top 20 rows\n",
            "\n"
          ]
        }
      ]
    },
    {
      "cell_type": "code",
      "source": [
        "df = spark_df"
      ],
      "metadata": {
        "id": "chkdV0SBgQr9"
      },
      "execution_count": null,
      "outputs": []
    },
    {
      "cell_type": "code",
      "source": [
        "df.dtypes"
      ],
      "metadata": {
        "id": "FwlV8ruKjiJk",
        "colab": {
          "base_uri": "https://localhost:8080/"
        },
        "outputId": "3093f58f-5589-4c5a-e994-f1d811b74ec0"
      },
      "execution_count": null,
      "outputs": [
        {
          "output_type": "execute_result",
          "data": {
            "text/plain": [
              "[('userId', 'int'),\n",
              " ('userSessionId', 'int'),\n",
              " ('teamLevel', 'int'),\n",
              " ('platformType', 'string'),\n",
              " ('count_gameclicks', 'int'),\n",
              " ('count_hits', 'int'),\n",
              " ('count_buyId', 'string'),\n",
              " ('avg_price', 'string')]"
            ]
          },
          "metadata": {},
          "execution_count": 11
        }
      ]
    },
    {
      "cell_type": "code",
      "source": [
        "from pyspark.sql.functions import col, when, sum as Fsum\n"
      ],
      "metadata": {
        "id": "i1E-z3PJMlup"
      },
      "execution_count": null,
      "outputs": []
    },
    {
      "cell_type": "code",
      "source": [
        "df.select([\n",
        "    Fsum(when(col(c).isNull(), 1).otherwise(0)).alias(c)\n",
        "    for c in df.columns\n",
        "]).show()\n"
      ],
      "metadata": {
        "id": "8dBdb2hfMn9x"
      },
      "execution_count": null,
      "outputs": []
    },
    {
      "cell_type": "code",
      "source": [
        "df.select([\n",
        "    sum(when(col(c).isNull(), 1).otherwise(0)).alias(c)\n",
        "    for c in df.columns\n",
        "]).show()"
      ],
      "metadata": {
        "colab": {
          "base_uri": "https://localhost:8080/"
        },
        "id": "JKa7FWOwiGHs",
        "outputId": "c3840cd1-4712-4672-db09-0f28d80f2d9d"
      },
      "execution_count": null,
      "outputs": [
        {
          "output_type": "stream",
          "name": "stdout",
          "text": [
            "+------+-------------+---------+------------+----------------+----------+-----------+---------+\n",
            "|userId|userSessionId|teamLevel|platformType|count_gameclicks|count_hits|count_buyId|avg_price|\n",
            "+------+-------------+---------+------------+----------------+----------+-----------+---------+\n",
            "|     0|            0|        0|           0|               0|         0|          0|        0|\n",
            "+------+-------------+---------+------------+----------------+----------+-----------+---------+\n",
            "\n"
          ]
        }
      ]
    },
    {
      "cell_type": "code",
      "source": [
        "df.select([\n",
        "    sum(when(isnan(col(c)), 1).otherwise(0)).alias(c)\n",
        "    for c in df.columns\n",
        "]).show()"
      ],
      "metadata": {
        "trusted": true,
        "execution": {
          "iopub.status.busy": "2025-05-17T07:00:11.475572Z",
          "iopub.execute_input": "2025-05-17T07:00:11.475929Z",
          "iopub.status.idle": "2025-05-17T07:00:11.497489Z",
          "shell.execute_reply.started": "2025-05-17T07:00:11.475899Z",
          "shell.execute_reply": "2025-05-17T07:00:11.496340Z"
        },
        "colab": {
          "base_uri": "https://localhost:8080/"
        },
        "id": "Z1PHNXdWdpEj",
        "outputId": "532a4ffe-56c1-4fcd-8952-807da1341319"
      },
      "outputs": [
        {
          "output_type": "stream",
          "name": "stdout",
          "text": [
            "+------+-------------+---------+------------+----------------+----------+-----------+---------+\n",
            "|userId|userSessionId|teamLevel|platformType|count_gameclicks|count_hits|count_buyId|avg_price|\n",
            "+------+-------------+---------+------------+----------------+----------+-----------+---------+\n",
            "|     0|            0|        0|           0|               0|         0|          0|        0|\n",
            "+------+-------------+---------+------------+----------------+----------+-----------+---------+\n",
            "\n"
          ]
        }
      ],
      "execution_count": null
    },
    {
      "cell_type": "code",
      "source": [
        "df.select([\n",
        "    sum(when(col(c)=='NULL', 1).otherwise(0)).alias(c)\n",
        "    for c in df.columns\n",
        "]).show()"
      ],
      "metadata": {
        "id": "mJSq0dGritR0",
        "colab": {
          "base_uri": "https://localhost:8080/"
        },
        "outputId": "ccfbba11-8995-4a4b-a0f7-040c515c3b9e"
      },
      "execution_count": null,
      "outputs": [
        {
          "output_type": "stream",
          "name": "stdout",
          "text": [
            "+------+-------------+---------+------------+----------------+----------+-----------+---------+\n",
            "|userId|userSessionId|teamLevel|platformType|count_gameclicks|count_hits|count_buyId|avg_price|\n",
            "+------+-------------+---------+------------+----------------+----------+-----------+---------+\n",
            "|     0|            0|        0|           0|               0|         0|       3208|     3208|\n",
            "+------+-------------+---------+------------+----------------+----------+-----------+---------+\n",
            "\n"
          ]
        }
      ]
    },
    {
      "cell_type": "code",
      "source": [
        "from pyspark.sql.functions import when, col, trim\n",
        "\n",
        "df = df.withColumn(\"count_buyId\", when(trim(col(\"count_buyId\")) == \"NULL\", \"0\").otherwise(col(\"count_buyId\")))\n",
        "df = df.withColumn(\"avg_price\", when(trim(col(\"avg_price\")) == \"NULL\", \"0\").otherwise(col(\"avg_price\")))\n",
        "\n",
        "df = df.withColumn(\"count_buyId\", col(\"count_buyId\").cast(\"int\"))\n",
        "df = df.withColumn(\"avg_price\", col(\"avg_price\").cast(\"float\"))\n",
        "\n",
        "df = df.withColumn(\"made_purchase\", when(col(\"count_buyId\") > 0, 1).otherwise(0))\n"
      ],
      "metadata": {
        "id": "wbUxBoPZiy0H"
      },
      "execution_count": null,
      "outputs": []
    },
    {
      "cell_type": "code",
      "source": [
        "df.show()"
      ],
      "metadata": {
        "trusted": true,
        "execution": {
          "iopub.status.busy": "2025-05-17T07:00:11.498866Z",
          "iopub.execute_input": "2025-05-17T07:00:11.499441Z",
          "iopub.status.idle": "2025-05-17T07:00:11.504441Z",
          "shell.execute_reply.started": "2025-05-17T07:00:11.499405Z",
          "shell.execute_reply": "2025-05-17T07:00:11.503332Z"
        },
        "id": "KhVWfZgWdpEk",
        "colab": {
          "base_uri": "https://localhost:8080/"
        },
        "outputId": "00c89f98-6d48-48cb-9f5f-6702a867cfea"
      },
      "outputs": [
        {
          "output_type": "stream",
          "name": "stdout",
          "text": [
            "+------+-------------+---------+------------+----------------+----------+-----------+---------+-------------+\n",
            "|userId|userSessionId|teamLevel|platformType|count_gameclicks|count_hits|count_buyId|avg_price|made_purchase|\n",
            "+------+-------------+---------+------------+----------------+----------+-----------+---------+-------------+\n",
            "|   812|         5648|        1|     android|              69|         8|          0|      0.0|            0|\n",
            "|  1658|         5649|        1|      iphone|              31|         5|          0|      0.0|            0|\n",
            "|  1589|         5650|        1|      iphone|              26|         2|          0|      0.0|            0|\n",
            "|  1863|         5651|        1|     android|              35|         4|          0|      0.0|            0|\n",
            "|   937|         5652|        1|     android|              39|         0|          1|      1.0|            1|\n",
            "|   342|         5653|        1|     android|              36|         5|          0|      0.0|            0|\n",
            "|   849|         5654|        1|      iphone|              40|         5|          0|      0.0|            0|\n",
            "|  1277|         5655|        1|     windows|              46|         8|          0|      0.0|            0|\n",
            "|  2203|         5656|        1|     android|              68|         6|          0|      0.0|            0|\n",
            "|   585|         5657|        1|      iphone|              76|         9|          0|      0.0|            0|\n",
            "|  1370|         5658|        1|      iphone|              69|         6|          0|      0.0|            0|\n",
            "|  1623|         5659|        1|      iphone|             129|         9|          1|     10.0|            1|\n",
            "|   881|         5660|        1|      iphone|              36|         6|          0|      0.0|            0|\n",
            "|    83|         5661|        1|     android|             102|        14|          1|      5.0|            1|\n",
            "|   453|         5662|        1|     android|             102|         7|          0|      0.0|            0|\n",
            "|  1966|         5663|        1|      iphone|              63|         8|          0|      0.0|            0|\n",
            "|  1073|         5664|        1|     android|             141|        21|          0|      0.0|            0|\n",
            "|   121|         5665|        1|     android|              39|         4|          1|      3.0|            1|\n",
            "|   462|         5666|        1|     android|              90|        10|          1|      3.0|            1|\n",
            "|   708|         5667|        1|      iphone|              32|         2|          0|      0.0|            0|\n",
            "+------+-------------+---------+------------+----------------+----------+-----------+---------+-------------+\n",
            "only showing top 20 rows\n",
            "\n"
          ]
        }
      ],
      "execution_count": null
    },
    {
      "cell_type": "code",
      "source": [
        "user_stats = df.groupBy(\"userId\", \"platformType\").agg(\n",
        "    sum(\"count_buyId\").alias(\"total_purchases\"),\n",
        "    sum(col(\"count_buyId\") * col(\"avg_price\")).alias(\"total_spent\")\n",
        ")"
      ],
      "metadata": {
        "id": "RWJ0s4kTm9No"
      },
      "execution_count": null,
      "outputs": []
    },
    {
      "cell_type": "code",
      "source": [
        "user_stats.show()"
      ],
      "metadata": {
        "id": "4kdV6hCVnRrp",
        "colab": {
          "base_uri": "https://localhost:8080/"
        },
        "outputId": "0205cee0-2428-47fc-e429-7cea22b66817"
      },
      "execution_count": null,
      "outputs": [
        {
          "output_type": "stream",
          "name": "stdout",
          "text": [
            "+------+------------+---------------+------------------+\n",
            "|userId|platformType|total_purchases|       total_spent|\n",
            "+------+------------+---------------+------------------+\n",
            "|  2229|      iphone|             15|223.01000213623047|\n",
            "|   487|      iphone|              0|               0.0|\n",
            "|  2116|     android|              0|               0.0|\n",
            "|  1335|     windows|              0|               0.0|\n",
            "|  1560|     android|              0|               0.0|\n",
            "|  1471|      iphone|              8|              96.0|\n",
            "|   908|         mac|              0|               0.0|\n",
            "|   738|      iphone|              0|               0.0|\n",
            "|    32|     android|              0|               0.0|\n",
            "|   275|     android|              0|               0.0|\n",
            "|   540|     android|              0|               0.0|\n",
            "|   281|     android|              5|              34.0|\n",
            "|  2323|     android|              0|               0.0|\n",
            "|  1472|         mac|              1|              10.0|\n",
            "|  1454|      iphone|              0|               0.0|\n",
            "|  1613|      iphone|              0|               0.0|\n",
            "|  1991|      iphone|              2|              40.0|\n",
            "|  1805|     android|              0|               0.0|\n",
            "|   872|      iphone|              0|               0.0|\n",
            "|  1721|     windows|              6| 8.009999752044678|\n",
            "+------+------------+---------------+------------------+\n",
            "only showing top 20 rows\n",
            "\n"
          ]
        }
      ]
    },
    {
      "cell_type": "markdown",
      "source": [
        "Tạo input cho **KMINE**"
      ],
      "metadata": {
        "id": "19VHfO4gchxa"
      }
    },
    {
      "cell_type": "code",
      "source": [
        "from pyspark.sql.functions import mean\n",
        "\n",
        "user_stats.agg(mean(\"total_spent\")).show()"
      ],
      "metadata": {
        "colab": {
          "base_uri": "https://localhost:8080/"
        },
        "id": "B2Eb9I9TITzQ",
        "outputId": "6e42e915-776e-4985-e341-c9107fe36650"
      },
      "execution_count": null,
      "outputs": [
        {
          "output_type": "stream",
          "name": "stdout",
          "text": [
            "+-----------------+\n",
            "| avg(total_spent)|\n",
            "+-----------------+\n",
            "|15.37482356679925|\n",
            "+-----------------+\n",
            "\n"
          ]
        }
      ]
    },
    {
      "cell_type": "code",
      "source": [
        "user_stats.coalesce(1).write.csv(\"/content/input2.csv\", header=True)"
      ],
      "metadata": {
        "id": "i9NZ7zO-KeAQ"
      },
      "execution_count": null,
      "outputs": []
    },
    {
      "cell_type": "markdown",
      "source": [
        "Output sau khi phân nhãn và trực quan hoá dữ liệu ở **KMINE**"
      ],
      "metadata": {
        "id": "yhJC8jlncl7e"
      }
    },
    {
      "cell_type": "code",
      "source": [
        "df2 = spark.read.option(\"header\", True).option(\"inferSchema\", True).csv(\"/content/part-00000-72b64e25-854b-4d07-b3fa-bf386e06a3b4-c000.csv\")"
      ],
      "metadata": {
        "id": "hBpmSTBHJd4m"
      },
      "execution_count": null,
      "outputs": []
    },
    {
      "cell_type": "code",
      "source": [
        "df2.show()"
      ],
      "metadata": {
        "colab": {
          "base_uri": "https://localhost:8080/"
        },
        "id": "nahF3JDXcW4o",
        "outputId": "0d933617-978d-40f9-845a-ecb8d4d1783f"
      },
      "execution_count": null,
      "outputs": [
        {
          "output_type": "stream",
          "name": "stdout",
          "text": [
            "+------+------------+---------------+------------------+---------+\n",
            "|userId|platformType|total_purchases|       total_spent|  Cluster|\n",
            "+------+------------+---------------+------------------+---------+\n",
            "|  2229|      iphone|             15|223.01000213623047|cluster_0|\n",
            "|   487|      iphone|              0|               0.0|cluster_1|\n",
            "|  2116|     android|              0|               0.0|cluster_1|\n",
            "|  1335|     windows|              0|               0.0|cluster_1|\n",
            "|  1560|     android|              0|               0.0|cluster_1|\n",
            "|  1471|      iphone|              8|              96.0|cluster_0|\n",
            "|   908|         mac|              0|               0.0|cluster_1|\n",
            "|   738|      iphone|              0|               0.0|cluster_1|\n",
            "|    32|     android|              0|               0.0|cluster_1|\n",
            "|   275|     android|              0|               0.0|cluster_1|\n",
            "|   540|     android|              0|               0.0|cluster_1|\n",
            "|   281|     android|              5|              34.0|cluster_1|\n",
            "|  2323|     android|              0|               0.0|cluster_1|\n",
            "|  1472|         mac|              1|              10.0|cluster_1|\n",
            "|  1454|      iphone|              0|               0.0|cluster_1|\n",
            "|  1613|      iphone|              0|               0.0|cluster_1|\n",
            "|  1991|      iphone|              2|              40.0|cluster_1|\n",
            "|  1805|     android|              0|               0.0|cluster_1|\n",
            "|   872|      iphone|              0|               0.0|cluster_1|\n",
            "|  1721|     windows|              6| 8.009999752044678|cluster_1|\n",
            "+------+------------+---------------+------------------+---------+\n",
            "only showing top 20 rows\n",
            "\n"
          ]
        }
      ]
    },
    {
      "cell_type": "code",
      "source": [
        "quantile = user_stats.approxQuantile(\"total_spent\", [0.95], 0.01)[0]"
      ],
      "metadata": {
        "id": "ku-DVMj6InGM"
      },
      "execution_count": null,
      "outputs": []
    },
    {
      "cell_type": "code",
      "source": [
        "quantile"
      ],
      "metadata": {
        "colab": {
          "base_uri": "https://localhost:8080/"
        },
        "id": "tWuBaza5Ioxf",
        "outputId": "c0123986-1354-43ad-d137-565e2ddf002d"
      },
      "execution_count": null,
      "outputs": [
        {
          "output_type": "execute_result",
          "data": {
            "text/plain": [
              "70.0"
            ]
          },
          "metadata": {},
          "execution_count": 105
        }
      ]
    },
    {
      "cell_type": "code",
      "source": [
        "user_stats = user_stats.withColumn(\n",
        "    \"spender_type\",\n",
        "    when(col(\"total_spent\") >= 70, \"big_spender\").otherwise(\"low_spender\")\n",
        ")"
      ],
      "metadata": {
        "id": "q3rwc3IsmGnA"
      },
      "execution_count": null,
      "outputs": []
    },
    {
      "cell_type": "code",
      "source": [
        "user_stats.show()"
      ],
      "metadata": {
        "id": "KexBE07YmI5p",
        "colab": {
          "base_uri": "https://localhost:8080/"
        },
        "outputId": "807a72f2-b842-4c0e-f13c-b6db6bd5ef0f"
      },
      "execution_count": null,
      "outputs": [
        {
          "output_type": "stream",
          "name": "stdout",
          "text": [
            "+------+------------+---------------+------------------+------------+\n",
            "|userId|platformType|total_purchases|       total_spent|spender_type|\n",
            "+------+------------+---------------+------------------+------------+\n",
            "|  2229|      iphone|             15|223.01000213623047|  HighRoller|\n",
            "|   487|      iphone|              0|               0.0|PennyPincher|\n",
            "|  2116|     android|              0|               0.0|PennyPincher|\n",
            "|  1335|     windows|              0|               0.0|PennyPincher|\n",
            "|  1560|     android|              0|               0.0|PennyPincher|\n",
            "|  1471|      iphone|              8|              96.0|  HighRoller|\n",
            "|   908|         mac|              0|               0.0|PennyPincher|\n",
            "|   738|      iphone|              0|               0.0|PennyPincher|\n",
            "|    32|     android|              0|               0.0|PennyPincher|\n",
            "|   275|     android|              0|               0.0|PennyPincher|\n",
            "|   540|     android|              0|               0.0|PennyPincher|\n",
            "|   281|     android|              5|              34.0|PennyPincher|\n",
            "|  2323|     android|              0|               0.0|PennyPincher|\n",
            "|  1472|         mac|              1|              10.0|PennyPincher|\n",
            "|  1454|      iphone|              0|               0.0|PennyPincher|\n",
            "|  1613|      iphone|              0|               0.0|PennyPincher|\n",
            "|  1991|      iphone|              2|              40.0|PennyPincher|\n",
            "|  1805|     android|              0|               0.0|PennyPincher|\n",
            "|   872|      iphone|              0|               0.0|PennyPincher|\n",
            "|  1721|     windows|              6| 8.009999752044678|PennyPincher|\n",
            "+------+------------+---------------+------------------+------------+\n",
            "only showing top 20 rows\n",
            "\n"
          ]
        }
      ]
    },
    {
      "cell_type": "code",
      "source": [
        "df_with_stats = df.join(df2, on=[\"userId\", \"platformType\"], how=\"left\")"
      ],
      "metadata": {
        "id": "gHmQMn3zoLeK"
      },
      "execution_count": null,
      "outputs": []
    },
    {
      "cell_type": "code",
      "source": [
        "df_with_stats.show()"
      ],
      "metadata": {
        "id": "NFUPdza6oMKF",
        "colab": {
          "base_uri": "https://localhost:8080/"
        },
        "outputId": "9fef885d-dce9-4d37-b173-f4dfe036a407"
      },
      "execution_count": null,
      "outputs": [
        {
          "output_type": "stream",
          "name": "stdout",
          "text": [
            "+------+------------+-------------+---------+----------------+----------+-----------+---------+-------------+---------------+------------------+---------+\n",
            "|userId|platformType|userSessionId|teamLevel|count_gameclicks|count_hits|count_buyId|avg_price|made_purchase|total_purchases|       total_spent|  Cluster|\n",
            "+------+------------+-------------+---------+----------------+----------+-----------+---------+-------------+---------------+------------------+---------+\n",
            "|   812|     android|         5648|        1|              69|         8|          0|      0.0|            0|              0|               0.0|cluster_1|\n",
            "|  1658|      iphone|         5649|        1|              31|         5|          0|      0.0|            0|              5|              65.0|cluster_0|\n",
            "|  1589|      iphone|         5650|        1|              26|         2|          0|      0.0|            0|              0|               0.0|cluster_1|\n",
            "|  1863|     android|         5651|        1|              35|         4|          0|      0.0|            0|              8|              26.0|cluster_1|\n",
            "|   937|     android|         5652|        1|              39|         0|          1|      1.0|            1|              1|               1.0|cluster_1|\n",
            "|   342|     android|         5653|        1|              36|         5|          0|      0.0|            0|              0|               0.0|cluster_1|\n",
            "|   849|      iphone|         5654|        1|              40|         5|          0|      0.0|            0|              0|               0.0|cluster_1|\n",
            "|  1277|     windows|         5655|        1|              46|         8|          0|      0.0|            0|              8|              35.0|cluster_1|\n",
            "|  2203|     android|         5656|        1|              68|         6|          0|      0.0|            0|              0|               0.0|cluster_1|\n",
            "|   585|      iphone|         5657|        1|              76|         9|          0|      0.0|            0|              2|              25.0|cluster_1|\n",
            "|  1370|      iphone|         5658|        1|              69|         6|          0|      0.0|            0|              7|              70.0|cluster_0|\n",
            "|  1623|      iphone|         5659|        1|             129|         9|          1|     10.0|            1|             10|             104.0|cluster_0|\n",
            "|   881|      iphone|         5660|        1|              36|         6|          0|      0.0|            0|             10|             148.0|cluster_0|\n",
            "|    83|     android|         5661|        1|             102|        14|          1|      5.0|            1|              9|30.010000228881836|cluster_1|\n",
            "|   453|     android|         5662|        1|             102|         7|          0|      0.0|            0|              0|               0.0|cluster_1|\n",
            "|  1966|      iphone|         5663|        1|              63|         8|          0|      0.0|            0|              1|              10.0|cluster_1|\n",
            "|  1073|     android|         5664|        1|             141|        21|          0|      0.0|            0|              0|               0.0|cluster_1|\n",
            "|   121|     android|         5665|        1|              39|         4|          1|      3.0|            1|              8|              22.0|cluster_1|\n",
            "|   462|     android|         5666|        1|              90|        10|          1|      3.0|            1|              7|              21.0|cluster_1|\n",
            "|   708|      iphone|         5667|        1|              32|         2|          0|      0.0|            0|              0|               0.0|cluster_1|\n",
            "+------+------------+-------------+---------+----------------+----------+-----------+---------+-------------+---------------+------------------+---------+\n",
            "only showing top 20 rows\n",
            "\n"
          ]
        }
      ]
    },
    {
      "cell_type": "code",
      "source": [
        "df_with_stats = df_with_stats.withColumn(\n",
        "    \"Cluster\",\n",
        "    when(col(\"Cluster\") == \"cluster_0\", \"big_spender\").otherwise(\"low_spender\")\n",
        ")\n",
        "df_with_stats = df_with_stats.withColumnRenamed('Cluster', 'spender_type')\n"
      ],
      "metadata": {
        "id": "wQ3Saylwc3V-"
      },
      "execution_count": null,
      "outputs": []
    },
    {
      "cell_type": "code",
      "source": [
        "df_with_stats.groupBy('spender_type').count().show()"
      ],
      "metadata": {
        "id": "E4zsbvm3pVaI",
        "colab": {
          "base_uri": "https://localhost:8080/"
        },
        "outputId": "f996aa21-fd55-4469-8996-8bd36f99e7c9"
      },
      "execution_count": null,
      "outputs": [
        {
          "output_type": "stream",
          "name": "stdout",
          "text": [
            "+------------+-----+\n",
            "|spender_type|count|\n",
            "+------------+-----+\n",
            "| big_spender|  770|\n",
            "| low_spender| 3849|\n",
            "+------------+-----+\n",
            "\n"
          ]
        }
      ]
    },
    {
      "cell_type": "code",
      "source": [
        "df_with_stats.groupBy('spender_type', 'teamLevel').count().orderBy('teamLevel', 'spender_type').show()"
      ],
      "metadata": {
        "colab": {
          "base_uri": "https://localhost:8080/"
        },
        "id": "lmRzbOk9m-8v",
        "outputId": "b2a0b538-ec5f-4af7-99d1-df2806ec66ab"
      },
      "execution_count": null,
      "outputs": [
        {
          "output_type": "stream",
          "name": "stdout",
          "text": [
            "+------------+---------+-----+\n",
            "|spender_type|teamLevel|count|\n",
            "+------------+---------+-----+\n",
            "| big_spender|        1|   82|\n",
            "| low_spender|        1|  375|\n",
            "| big_spender|        2|   94|\n",
            "| low_spender|        2|  432|\n",
            "| big_spender|        3|  102|\n",
            "| low_spender|        3|  506|\n",
            "| big_spender|        4|  117|\n",
            "| low_spender|        4|  570|\n",
            "| big_spender|        5|  128|\n",
            "| low_spender|        5|  639|\n",
            "| big_spender|        6|  129|\n",
            "| low_spender|        6|  690|\n",
            "| big_spender|        7|  117|\n",
            "| low_spender|        7|  634|\n",
            "| big_spender|        8|    1|\n",
            "| low_spender|        8|    3|\n",
            "+------------+---------+-----+\n",
            "\n"
          ]
        }
      ]
    },
    {
      "cell_type": "code",
      "source": [
        "from pyspark.sql.functions import avg, sum\n",
        "\n",
        "df_with_stats.groupBy(\"spender_type\").agg(\n",
        "    avg(\"total_spent\").alias(\"avg_spent\"),\n",
        "    sum(\"total_spent\").alias(\"sum_spent\")\n",
        ").show()"
      ],
      "metadata": {
        "id": "jF9KtFRqplhj",
        "colab": {
          "base_uri": "https://localhost:8080/"
        },
        "outputId": "653ca37a-1fc0-448a-8264-5194e8ce9f18"
      },
      "execution_count": null,
      "outputs": [
        {
          "output_type": "stream",
          "name": "stdout",
          "text": [
            "+------------+-----------------+-----------------+\n",
            "|spender_type|        avg_spent|        sum_spent|\n",
            "+------------+-----------------+-----------------+\n",
            "| big_spender| 86.1791171903734|66357.92023658752|\n",
            "| low_spender|6.950857364285857|26753.84999513626|\n",
            "+------------+-----------------+-----------------+\n",
            "\n"
          ]
        }
      ]
    },
    {
      "cell_type": "markdown",
      "source": [
        "# Phân tích dữ liệu"
      ],
      "metadata": {
        "id": "HEZU3pQ8dpEk"
      }
    },
    {
      "cell_type": "markdown",
      "source": [
        "### 2.1 Biểu đồ Số Lượt Click Trong Game theo Loại Nền Tảng và Phân Loại Người Dùng."
      ],
      "metadata": {
        "id": "IfLscKCQdpEl"
      }
    },
    {
      "cell_type": "code",
      "source": [
        "scatter_data_spark_for_plot = df_with_stats.select(\"platformType\", \"count_gameclicks\", \"spender_type\")\n",
        "scatter_data_spark_for_plot.show()"
      ],
      "metadata": {
        "id": "FDC7wbmAnt8e",
        "colab": {
          "base_uri": "https://localhost:8080/"
        },
        "outputId": "3e84927f-fd7d-42ce-b2d3-95df41c4e3a7"
      },
      "execution_count": null,
      "outputs": [
        {
          "output_type": "stream",
          "name": "stdout",
          "text": [
            "+------------+----------------+------------+\n",
            "|platformType|count_gameclicks|spender_type|\n",
            "+------------+----------------+------------+\n",
            "|     android|              69| low_spender|\n",
            "|      iphone|              31| big_spender|\n",
            "|      iphone|              26| low_spender|\n",
            "|     android|              35| low_spender|\n",
            "|     android|              39| low_spender|\n",
            "|     android|              36| low_spender|\n",
            "|      iphone|              40| low_spender|\n",
            "|     windows|              46| low_spender|\n",
            "|     android|              68| low_spender|\n",
            "|      iphone|              76| low_spender|\n",
            "|      iphone|              69| big_spender|\n",
            "|      iphone|             129| big_spender|\n",
            "|      iphone|              36| big_spender|\n",
            "|     android|             102| low_spender|\n",
            "|     android|             102| low_spender|\n",
            "|      iphone|              63| low_spender|\n",
            "|     android|             141| low_spender|\n",
            "|     android|              39| low_spender|\n",
            "|     android|              90| low_spender|\n",
            "|      iphone|              32| low_spender|\n",
            "+------------+----------------+------------+\n",
            "only showing top 20 rows\n",
            "\n"
          ]
        }
      ]
    },
    {
      "cell_type": "code",
      "source": [
        "scatter_data_spark_for_plot2 = scatter_data_spark_for_plot.toPandas()"
      ],
      "metadata": {
        "id": "FEhVJXerohWE"
      },
      "execution_count": null,
      "outputs": []
    },
    {
      "cell_type": "code",
      "source": [
        "sns.scatterplot(x='platformType',y='count_gameclicks',hue='spender_type',data=scatter_data_spark_for_plot2)"
      ],
      "metadata": {
        "trusted": true,
        "execution": {
          "iopub.status.busy": "2025-05-17T07:00:12.532220Z",
          "iopub.execute_input": "2025-05-17T07:00:12.532968Z",
          "iopub.status.idle": "2025-05-17T07:00:12.865875Z",
          "shell.execute_reply.started": "2025-05-17T07:00:12.532921Z",
          "shell.execute_reply": "2025-05-17T07:00:12.864951Z"
        },
        "id": "eMqPJFX8dpEl",
        "colab": {
          "base_uri": "https://localhost:8080/",
          "height": 466
        },
        "outputId": "d2b881d7-5f12-4e35-b3d4-863057c8f41a"
      },
      "outputs": [
        {
          "output_type": "execute_result",
          "data": {
            "text/plain": [
              "<Axes: xlabel='platformType', ylabel='count_gameclicks'>"
            ]
          },
          "metadata": {},
          "execution_count": 29
        },
        {
          "output_type": "display_data",
          "data": {
            "text/plain": [
              "<Figure size 640x480 with 1 Axes>"
            ],
            "image/png": "[encoded data removed]"
          },
          "metadata": {}
        }
      ],
      "execution_count": null
    },
    {
      "cell_type": "markdown",
      "source": [
        "### 2.2 Biểu đồ số Lượng Người Dùng theo Loại Nền Tảng và Phân Loại Người Dùng."
      ],
      "metadata": {
        "id": "yTq1NITKdpEm"
      }
    },
    {
      "cell_type": "code",
      "source": [
        "countplot_data_spark_agg = df_with_stats.groupBy(\"platformType\", \"spender_type\").count().orderBy(\"platformType\", \"spender_type\")\n",
        "countplot_data_spark_agg.show()"
      ],
      "metadata": {
        "colab": {
          "base_uri": "https://localhost:8080/"
        },
        "id": "fVao9enkcwxH",
        "outputId": "812e3e6b-4cc5-4d77-96ad-0036cc60ad00"
      },
      "execution_count": null,
      "outputs": [
        {
          "output_type": "stream",
          "name": "stdout",
          "text": [
            "+------------+------------+-----+\n",
            "|platformType|spender_type|count|\n",
            "+------------+------------+-----+\n",
            "|     android| big_spender|   86|\n",
            "|     android| low_spender| 1549|\n",
            "|      iphone| big_spender|  663|\n",
            "|      iphone| low_spender| 1271|\n",
            "|       linux| low_spender|  252|\n",
            "|         mac| big_spender|    7|\n",
            "|         mac| low_spender|  172|\n",
            "|     windows| big_spender|   14|\n",
            "|     windows| low_spender|  605|\n",
            "+------------+------------+-----+\n",
            "\n"
          ]
        }
      ]
    },
    {
      "cell_type": "code",
      "source": [
        "import seaborn as sns\n",
        "countplot_data_pd_agg = countplot_data_spark_agg.toPandas()\n",
        "\n",
        "# # Vẽ biểu đồ cột bằng Seaborn\n",
        "plt.figure(figsize=(10, 7))\n",
        "sns.barplot(x='platformType', y='count', hue='spender_type', data=countplot_data_pd_agg)\n",
        "plt.title('Số Lượng Người Dùng theo Loại Nền Tảng và Phân Loại Người Dùng')\n",
        "plt.xlabel('Loại Nền Tảng (platformType)')\n",
        "plt.ylabel('Số Lượng Người Dùng')\n",
        "plt.xticks(rotation=45, ha=\"right\")\n",
        "plt.grid(axis='y')\n",
        "plt.tight_layout()\n",
        "plt.show()"
      ],
      "metadata": {
        "trusted": true,
        "execution": {
          "iopub.status.busy": "2025-05-17T07:00:12.866812Z",
          "iopub.execute_input": "2025-05-17T07:00:12.867099Z",
          "iopub.status.idle": "2025-05-17T07:00:13.091497Z",
          "shell.execute_reply.started": "2025-05-17T07:00:12.867079Z",
          "shell.execute_reply": "2025-05-17T07:00:13.090544Z"
        },
        "id": "XzwrLRjKdpEm",
        "colab": {
          "base_uri": "https://localhost:8080/",
          "height": 707
        },
        "outputId": "4a682d04-84b9-408a-db08-857c68f4f55e"
      },
      "outputs": [
        {
          "output_type": "display_data",
          "data": {
            "text/plain": [
              "<Figure size 1000x700 with 1 Axes>"
            ],
            "image/png": "[encoded data removed]"
          },
          "metadata": {}
        }
      ],
      "execution_count": null
    },
    {
      "cell_type": "markdown",
      "source": [
        "Biểu đồ cột cho thấy sự khác biệt rõ rệt về phân bố của PennyPinchers và HighRollers giữa các\n",
        "nền tảng. Android và Windows bị chiếm đa số bởi PennyPinchers, trong khi iPhone bị chiếm đa số\n",
        "bởi HighRollers. Mac và Linux có số lượng người dùng chung thấp hơn.\n",
        "PlatformType là một đặc trưng rất quan trọng."
      ],
      "metadata": {
        "id": "mmZYL8LRdH67"
      }
    },
    {
      "cell_type": "markdown",
      "source": [
        "### 2.3 Bảng tương quan giữa các chỉ số"
      ],
      "metadata": {
        "id": "YXsCgedOdpEk"
      }
    },
    {
      "cell_type": "code",
      "source": [
        "from pyspark.ml.stat import Correlation\n",
        "from pyspark.ml.feature import VectorAssembler\n",
        "import pandas as pd"
      ],
      "metadata": {
        "id": "wm5X25K_d2Wt"
      },
      "execution_count": null,
      "outputs": []
    },
    {
      "cell_type": "code",
      "source": [
        "numeric_cols_for_corr = ['userId', 'userSessionId', 'teamLevel', 'count_gameclicks', 'count_hits', 'count_buyId', 'avg_price']"
      ],
      "metadata": {
        "id": "8jpHLUjbd7Cf"
      },
      "execution_count": null,
      "outputs": []
    },
    {
      "cell_type": "code",
      "source": [
        "correlation_matrix= df_with_stats.select(numeric_cols_for_corr)\n",
        "correlation_matrix.show()"
      ],
      "metadata": {
        "trusted": true,
        "execution": {
          "iopub.status.busy": "2025-05-17T07:00:11.790314Z",
          "iopub.execute_input": "2025-05-17T07:00:11.790664Z",
          "iopub.status.idle": "2025-05-17T07:00:11.796945Z",
          "shell.execute_reply.started": "2025-05-17T07:00:11.790641Z",
          "shell.execute_reply": "2025-05-17T07:00:11.795866Z"
        },
        "id": "E-yRL6EidpEk",
        "colab": {
          "base_uri": "https://localhost:8080/"
        },
        "outputId": "457e7c7e-3a43-4ce4-beda-4ef23fd0c29a"
      },
      "outputs": [
        {
          "output_type": "stream",
          "name": "stdout",
          "text": [
            "+------+-------------+---------+----------------+----------+-----------+---------+\n",
            "|userId|userSessionId|teamLevel|count_gameclicks|count_hits|count_buyId|avg_price|\n",
            "+------+-------------+---------+----------------+----------+-----------+---------+\n",
            "|   812|         5648|        1|              69|         8|          0|      0.0|\n",
            "|  1658|         5649|        1|              31|         5|          0|      0.0|\n",
            "|  1589|         5650|        1|              26|         2|          0|      0.0|\n",
            "|  1863|         5651|        1|              35|         4|          0|      0.0|\n",
            "|   937|         5652|        1|              39|         0|          1|      1.0|\n",
            "|   342|         5653|        1|              36|         5|          0|      0.0|\n",
            "|   849|         5654|        1|              40|         5|          0|      0.0|\n",
            "|  1277|         5655|        1|              46|         8|          0|      0.0|\n",
            "|  2203|         5656|        1|              68|         6|          0|      0.0|\n",
            "|   585|         5657|        1|              76|         9|          0|      0.0|\n",
            "|  1370|         5658|        1|              69|         6|          0|      0.0|\n",
            "|  1623|         5659|        1|             129|         9|          1|     10.0|\n",
            "|   881|         5660|        1|              36|         6|          0|      0.0|\n",
            "|    83|         5661|        1|             102|        14|          1|      5.0|\n",
            "|   453|         5662|        1|             102|         7|          0|      0.0|\n",
            "|  1966|         5663|        1|              63|         8|          0|      0.0|\n",
            "|  1073|         5664|        1|             141|        21|          0|      0.0|\n",
            "|   121|         5665|        1|              39|         4|          1|      3.0|\n",
            "|   462|         5666|        1|              90|        10|          1|      3.0|\n",
            "|   708|         5667|        1|              32|         2|          0|      0.0|\n",
            "+------+-------------+---------+----------------+----------+-----------+---------+\n",
            "only showing top 20 rows\n",
            "\n"
          ]
        }
      ],
      "execution_count": null
    },
    {
      "cell_type": "code",
      "source": [
        "assembler = VectorAssembler(inputCols=correlation_matrix.columns, outputCol=\"corr_features_numeric_only\", handleInvalid=\"skip\")\n",
        "vector_numeric = assembler.transform(correlation_matrix).select(\"corr_features_numeric_only\")"
      ],
      "metadata": {
        "trusted": true,
        "execution": {
          "iopub.status.busy": "2025-05-17T07:00:11.798080Z",
          "iopub.execute_input": "2025-05-17T07:00:11.798556Z",
          "iopub.status.idle": "2025-05-17T07:00:12.206597Z",
          "shell.execute_reply.started": "2025-05-17T07:00:11.798520Z",
          "shell.execute_reply": "2025-05-17T07:00:12.205474Z"
        },
        "id": "0o6hauCydpEk"
      },
      "outputs": [],
      "execution_count": null
    },
    {
      "cell_type": "code",
      "source": [
        "correlation_matrix= Correlation.corr(vector_numeric, \"corr_features_numeric_only\", \"pearson\").head()\n",
        "print(\"\\nMa trận tương quan (chỉ giữa các biến số ban đầu có trong df_with_stats):\")\n",
        "if correlation_matrix:\n",
        "    correlation_pd_numeric_only = pd.DataFrame(\n",
        "        correlation_matrix[0].toArray(),\n",
        "        columns=numeric_cols_for_corr,\n",
        "        index=numeric_cols_for_corr\n",
        "    )\n",
        "    print(correlation_pd_numeric_only.round(2))"
      ],
      "metadata": {
        "colab": {
          "base_uri": "https://localhost:8080/"
        },
        "id": "8t83te6LhnmW",
        "outputId": "74c22265-f229-4b9d-9d2e-468f3ffc3986"
      },
      "execution_count": null,
      "outputs": [
        {
          "output_type": "stream",
          "name": "stdout",
          "text": [
            "\n",
            "Ma trận tương quan (chỉ giữa các biến số ban đầu có trong df_with_stats):\n",
            "                  userId  userSessionId  teamLevel  count_gameclicks  \\\n",
            "userId              1.00           0.03      -0.00              0.07   \n",
            "userSessionId       0.03           1.00       0.77              0.22   \n",
            "teamLevel          -0.00           0.77       1.00             -0.08   \n",
            "count_gameclicks    0.07           0.22      -0.08              1.00   \n",
            "count_hits          0.07           0.22      -0.06              0.96   \n",
            "count_buyId        -0.00           0.15       0.21              0.01   \n",
            "avg_price           0.00           0.06       0.12             -0.00   \n",
            "\n",
            "                  count_hits  count_buyId  avg_price  \n",
            "userId                  0.07        -0.00       0.00  \n",
            "userSessionId           0.22         0.15       0.06  \n",
            "teamLevel              -0.06         0.21       0.12  \n",
            "count_gameclicks        0.96         0.01      -0.00  \n",
            "count_hits              1.00         0.04       0.04  \n",
            "count_buyId             0.04         1.00       0.56  \n",
            "avg_price               0.04         0.56       1.00  \n"
          ]
        }
      ]
    },
    {
      "cell_type": "code",
      "source": [
        "plt.figure(figsize=(12, 10))\n",
        "sns.heatmap(correlation_pd_numeric_only, annot=True, cmap='RdYlGn', fmt=\".2f\", linewidths=.5, center=0)\n",
        "plt.title('Ma Trận Tương Quan (Chỉ các biến số từ df_with_stats)')\n",
        "plt.xticks(rotation=45, ha=\"right\")\n",
        "plt.yticks(rotation=0)\n",
        "plt.tight_layout()\n",
        "plt.show()"
      ],
      "metadata": {
        "colab": {
          "base_uri": "https://localhost:8080/",
          "height": 1000
        },
        "id": "PGKBCNrkiYCe",
        "outputId": "925e89cd-f5bc-4157-dfb6-ae1082b5607a"
      },
      "execution_count": null,
      "outputs": [
        {
          "output_type": "display_data",
          "data": {
            "text/plain": [
              "<Figure size 1200x1000 with 2 Axes>"
            ],
            "image/png": "[encoded data removed]"
          },
          "metadata": {}
        }
      ]
    },
    {
      "cell_type": "markdown",
      "source": [
        "#### Ma trận tương quan cho thấy 'Tổng số lần nhấp vào trò chơi' (count_gameclicks) và 'Tổng số lần truy cập trò chơi' (count_hits) trong một phiên có mối tương quan dương rất mạnh (0.95).\n",
        "#### 'ID phiên người dùng' (userSessionId) tương quan dương khá tốt với 'Cấp độ nhóm' (teamLevel) (0.78). 'teamLevel' cũng có tương quan dương yếu với 'Tổng số lần mua' (count_buyId) (0.27).\n",
        "#### Đáng chú ý, 'Giá mua trung bình' (avg_price) gần như không tương quan với các chỉ số hoạt động khác. Điều này ngụ ý rằng, chỉ dựa trên các hành vi này, khó có thể dự đoán trực tiếp liệu giá trị trung bình của giao dịch sẽ cao hay thấp."
      ],
      "metadata": {
        "id": "c4FIxUC8iq5-"
      }
    },
    {
      "cell_type": "markdown",
      "source": [
        "### 2.4 Khoảng giá trung bình mà người dùng tiêu ( theo thiết bị )"
      ],
      "metadata": {
        "id": "uPbOTO8XdpEl"
      }
    },
    {
      "cell_type": "code",
      "source": [
        "boxplot_avg_price_spark = df_with_stats.select(\"platformType\", \"avg_price\").filter(col(\"avg_price\") > 0)"
      ],
      "metadata": {
        "trusted": true,
        "execution": {
          "iopub.status.busy": "2025-05-17T07:00:12.248949Z",
          "iopub.execute_input": "2025-05-17T07:00:12.249266Z",
          "iopub.status.idle": "2025-05-17T07:00:12.509351Z",
          "shell.execute_reply.started": "2025-05-17T07:00:12.249246Z",
          "shell.execute_reply": "2025-05-17T07:00:12.508254Z"
        },
        "id": "63AitvS0dpEl"
      },
      "outputs": [],
      "execution_count": null
    },
    {
      "cell_type": "code",
      "source": [
        "boxplot_avg_price_pd = boxplot_avg_price_spark.toPandas()\n",
        "\n",
        "plt.figure(figsize=(10, 7))\n",
        "sns.boxplot(x='avg_price', y='platformType', data=boxplot_avg_price_pd)\n",
        "plt.title('Phân bố Giá Mua Trung Bình (avg_price) theo Loại Nền Tảng (Chỉ các phiên có mua hàng)')\n",
        "plt.xlabel('Giá Mua Trung Bình cho Phiên Người Dùng (avg_price $)')\n",
        "plt.ylabel('Loại Nền Tảng (platformType)')\n",
        "plt.grid(True)\n",
        "plt.tight_layout()\n",
        "plt.show()\n"
      ],
      "metadata": {
        "colab": {
          "base_uri": "https://localhost:8080/",
          "height": 707
        },
        "id": "zgD4xSL1kBL2",
        "outputId": "3624322a-e23e-4bf1-b7eb-20235099a703"
      },
      "execution_count": null,
      "outputs": [
        {
          "output_type": "display_data",
          "data": {
            "text/plain": [
              "<Figure size 1000x700 with 1 Axes>"
            ],
            "image/png": "[encoded data removed]"
          },
          "metadata": {}
        }
      ]
    },
    {
      "cell_type": "markdown",
      "source": [
        "#### Biểu đồ hộp của avg_price theo từng nền tảng (chỉ xét các phiên có mua hàng) cho thấy sự khác biệt trong phân bố giá trị chi tiêu. Người dùng iPhone có xu hướng có khoảng tứ phân vị (IQR) và các giá trị ngoại lệ ở mức giá cao hơn so với các nền tảng khác.\n",
        "#### Android và Windows có vẻ có phân bố giá rộng hơn ở các mức thấp và trung bình. Mac và Linux có ít dữ liệu hơnnhưng cũng cho thấy sự tập trung ở các mức giá thấp hơn so với iPhone.Điều này củng cố rằng platformType, đặc biệt là iPhone, có liên quan đến khả năng chi tiêu cao hơn."
      ],
      "metadata": {
        "id": "Qr7QGXMHkJj-"
      }
    },
    {
      "cell_type": "markdown",
      "source": [
        "# Phần 3\n"
      ],
      "metadata": {
        "id": "R51pIoVMqiPo"
      }
    },
    {
      "cell_type": "code",
      "source": [
        "df_with_stats.groupBy(\"spender_type\", \"teamLevel\").count().orderBy(\"spender_type\", \"teamLevel\").show()"
      ],
      "metadata": {
        "id": "uN8MUGQNqKGu",
        "colab": {
          "base_uri": "https://localhost:8080/"
        },
        "outputId": "e4f1bb90-564c-4e58-f97e-1eed1fe2d280"
      },
      "execution_count": null,
      "outputs": [
        {
          "output_type": "stream",
          "name": "stdout",
          "text": [
            "+------------+---------+-----+\n",
            "|spender_type|teamLevel|count|\n",
            "+------------+---------+-----+\n",
            "| big_spender|        1|   82|\n",
            "| big_spender|        2|   94|\n",
            "| big_spender|        3|  102|\n",
            "| big_spender|        4|  117|\n",
            "| big_spender|        5|  128|\n",
            "| big_spender|        6|  129|\n",
            "| big_spender|        7|  117|\n",
            "| big_spender|        8|    1|\n",
            "| low_spender|        1|  375|\n",
            "| low_spender|        2|  432|\n",
            "| low_spender|        3|  506|\n",
            "| low_spender|        4|  570|\n",
            "| low_spender|        5|  639|\n",
            "| low_spender|        6|  690|\n",
            "| low_spender|        7|  634|\n",
            "| low_spender|        8|    3|\n",
            "+------------+---------+-----+\n",
            "\n"
          ]
        }
      ]
    },
    {
      "cell_type": "code",
      "source": [
        "df_with_stats.groupBy(\"spender_type\", \"userSessionId\").count().orderBy(\"spender_type\", \"userSessionId\").show()"
      ],
      "metadata": {
        "id": "MzmFeQE9r3AN",
        "colab": {
          "base_uri": "https://localhost:8080/"
        },
        "outputId": "6e57d3a2-e301-4932-c9ac-09c395e8c5c9"
      },
      "execution_count": null,
      "outputs": [
        {
          "output_type": "stream",
          "name": "stdout",
          "text": [
            "+------------+-------------+-----+\n",
            "|spender_type|userSessionId|count|\n",
            "+------------+-------------+-----+\n",
            "| big_spender|         5649|    1|\n",
            "| big_spender|         5658|    1|\n",
            "| big_spender|         5659|    1|\n",
            "| big_spender|         5660|    1|\n",
            "| big_spender|         5671|    1|\n",
            "| big_spender|         5674|    1|\n",
            "| big_spender|         5679|    1|\n",
            "| big_spender|         5694|    1|\n",
            "| big_spender|         5696|    1|\n",
            "| big_spender|         5702|    1|\n",
            "| big_spender|         5706|    1|\n",
            "| big_spender|         5707|    1|\n",
            "| big_spender|         5709|    1|\n",
            "| big_spender|         5715|    1|\n",
            "| big_spender|         5720|    1|\n",
            "| big_spender|         5724|    1|\n",
            "| big_spender|         5734|    1|\n",
            "| big_spender|         5743|    1|\n",
            "| big_spender|         5746|    1|\n",
            "| big_spender|         5764|    1|\n",
            "+------------+-------------+-----+\n",
            "only showing top 20 rows\n",
            "\n"
          ]
        }
      ]
    },
    {
      "cell_type": "markdown",
      "source": [
        "user session id ko ảnh hưởng"
      ],
      "metadata": {
        "id": "YSSrAD4hsOy2"
      }
    },
    {
      "cell_type": "code",
      "source": [
        "df_with_stats.groupBy(\"spender_type\", \"platformType\").count().orderBy(\"spender_type\", \"platformType\").show()"
      ],
      "metadata": {
        "id": "nbvlc4A9sOGL",
        "colab": {
          "base_uri": "https://localhost:8080/"
        },
        "outputId": "217007de-c429-46dd-d6d3-90ba4dc8766d"
      },
      "execution_count": null,
      "outputs": [
        {
          "output_type": "stream",
          "name": "stdout",
          "text": [
            "+------------+------------+-----+\n",
            "|spender_type|platformType|count|\n",
            "+------------+------------+-----+\n",
            "| big_spender|     android|   86|\n",
            "| big_spender|      iphone|  663|\n",
            "| big_spender|         mac|    7|\n",
            "| big_spender|     windows|   14|\n",
            "| low_spender|     android| 1549|\n",
            "| low_spender|      iphone| 1271|\n",
            "| low_spender|       linux|  252|\n",
            "| low_spender|         mac|  172|\n",
            "| low_spender|     windows|  605|\n",
            "+------------+------------+-----+\n",
            "\n"
          ]
        }
      ]
    },
    {
      "cell_type": "code",
      "source": [
        "df_with_stats.show()"
      ],
      "metadata": {
        "id": "UfXHIRn1vLXJ",
        "colab": {
          "base_uri": "https://localhost:8080/"
        },
        "outputId": "a7597774-18f5-4a39-e347-5fdd1f7f97f1"
      },
      "execution_count": null,
      "outputs": [
        {
          "output_type": "stream",
          "name": "stdout",
          "text": [
            "+------+------------+-------------+---------+----------------+----------+-----------+---------+-------------+---------------+------------------+------------+\n",
            "|userId|platformType|userSessionId|teamLevel|count_gameclicks|count_hits|count_buyId|avg_price|made_purchase|total_purchases|       total_spent|spender_type|\n",
            "+------+------------+-------------+---------+----------------+----------+-----------+---------+-------------+---------------+------------------+------------+\n",
            "|   812|     android|         5648|        1|              69|         8|          0|      0.0|            0|              0|               0.0| low_spender|\n",
            "|  1658|      iphone|         5649|        1|              31|         5|          0|      0.0|            0|              5|              65.0| big_spender|\n",
            "|  1589|      iphone|         5650|        1|              26|         2|          0|      0.0|            0|              0|               0.0| low_spender|\n",
            "|  1863|     android|         5651|        1|              35|         4|          0|      0.0|            0|              8|              26.0| low_spender|\n",
            "|   937|     android|         5652|        1|              39|         0|          1|      1.0|            1|              1|               1.0| low_spender|\n",
            "|   342|     android|         5653|        1|              36|         5|          0|      0.0|            0|              0|               0.0| low_spender|\n",
            "|   849|      iphone|         5654|        1|              40|         5|          0|      0.0|            0|              0|               0.0| low_spender|\n",
            "|  1277|     windows|         5655|        1|              46|         8|          0|      0.0|            0|              8|              35.0| low_spender|\n",
            "|  2203|     android|         5656|        1|              68|         6|          0|      0.0|            0|              0|               0.0| low_spender|\n",
            "|   585|      iphone|         5657|        1|              76|         9|          0|      0.0|            0|              2|              25.0| low_spender|\n",
            "|  1370|      iphone|         5658|        1|              69|         6|          0|      0.0|            0|              7|              70.0| big_spender|\n",
            "|  1623|      iphone|         5659|        1|             129|         9|          1|     10.0|            1|             10|             104.0| big_spender|\n",
            "|   881|      iphone|         5660|        1|              36|         6|          0|      0.0|            0|             10|             148.0| big_spender|\n",
            "|    83|     android|         5661|        1|             102|        14|          1|      5.0|            1|              9|30.010000228881836| low_spender|\n",
            "|   453|     android|         5662|        1|             102|         7|          0|      0.0|            0|              0|               0.0| low_spender|\n",
            "|  1966|      iphone|         5663|        1|              63|         8|          0|      0.0|            0|              1|              10.0| low_spender|\n",
            "|  1073|     android|         5664|        1|             141|        21|          0|      0.0|            0|              0|               0.0| low_spender|\n",
            "|   121|     android|         5665|        1|              39|         4|          1|      3.0|            1|              8|              22.0| low_spender|\n",
            "|   462|     android|         5666|        1|              90|        10|          1|      3.0|            1|              7|              21.0| low_spender|\n",
            "|   708|      iphone|         5667|        1|              32|         2|          0|      0.0|            0|              0|               0.0| low_spender|\n",
            "+------+------------+-------------+---------+----------------+----------+-----------+---------+-------------+---------------+------------------+------------+\n",
            "only showing top 20 rows\n",
            "\n"
          ]
        }
      ]
    },
    {
      "cell_type": "code",
      "source": [
        "from pyspark.sql.window import Window\n",
        "from pyspark.sql.functions import row_number\n",
        "\n",
        "window = Window.partitionBy(\"userId\").orderBy(\"userSessionId\")\n",
        "df_early = df_with_stats.withColumn(\"session_rank\", row_number().over(window)).filter(\"session_rank <= 3\")"
      ],
      "metadata": {
        "id": "ZL-VUuHCyHjE"
      },
      "execution_count": null,
      "outputs": []
    },
    {
      "cell_type": "code",
      "source": [
        "df_early.show()"
      ],
      "metadata": {
        "id": "TWE-fVc1yLfq",
        "colab": {
          "base_uri": "https://localhost:8080/"
        },
        "outputId": "626c3e02-1afe-4469-923c-c06c32345a7a"
      },
      "execution_count": null,
      "outputs": [
        {
          "output_type": "stream",
          "name": "stdout",
          "text": [
            "+------+------------+-------------+---------+----------------+----------+-----------+---------+-------------+---------------+------------------+------------+------------+\n",
            "|userId|platformType|userSessionId|teamLevel|count_gameclicks|count_hits|count_buyId|avg_price|made_purchase|total_purchases|       total_spent|spender_type|session_rank|\n",
            "+------+------------+-------------+---------+----------------+----------+-----------+---------+-------------+---------------+------------------+------------+------------+\n",
            "|     0|      iphone|        23473|        1|             237|        28|          0|      0.0|            0|              0|               0.0| low_spender|           1|\n",
            "|     0|      iphone|        24943|        2|             353|        35|          0|      0.0|            0|              0|               0.0| low_spender|           2|\n",
            "|     0|      iphone|        28377|        3|             381|        32|          0|      0.0|            0|              0|               0.0| low_spender|           3|\n",
            "|     1|     android|         5835|        1|              73|         7|          0|      0.0|            0|              8|              19.0| low_spender|           1|\n",
            "|     1|     android|         7847|        2|              95|        14|          0|      0.0|            0|              8|              19.0| low_spender|           2|\n",
            "|     1|     android|        10041|        3|              93|         9|          2|      3.0|            1|              8|              19.0| low_spender|           3|\n",
            "|     2|      iphone|        12107|        3|               7|         0|          0|      0.0|            0|              0|               0.0| low_spender|           1|\n",
            "|     2|      iphone|        12411|        4|              39|         3|          0|      0.0|            0|              0|               0.0| low_spender|           2|\n",
            "|     2|      iphone|        15899|        5|              35|         6|          0|      0.0|            0|              0|               0.0| low_spender|           3|\n",
            "|     6|      iphone|        28628|        7|              90|         5|          0|      0.0|            0|              0|               0.0| low_spender|           1|\n",
            "|     8|      iphone|        27410|        4|              25|         1|          0|      0.0|            0|              3|              33.0| low_spender|           1|\n",
            "|     8|      iphone|        27918|        5|             182|        23|          3|     11.0|            1|              3|              33.0| low_spender|           2|\n",
            "|     9|      iphone|         9187|        2|              17|         1|          1|     10.0|            1|              6|              80.0| big_spender|           1|\n",
            "|     9|      iphone|        10038|        3|              54|         7|          0|      0.0|            0|              6|              80.0| big_spender|           2|\n",
            "|     9|      iphone|        12710|        4|              91|        11|          1|     10.0|            1|              6|              80.0| big_spender|           3|\n",
            "|    10|       linux|        16583|        1|             561|        64|          3|      1.0|            1|              7|               8.0| low_spender|           1|\n",
            "|    10|       linux|        18403|        2|             764|        81|          1|      1.0|            1|              7|               8.0| low_spender|           2|\n",
            "|    10|       linux|        21397|        3|             832|       100|          0|      0.0|            0|              7|               8.0| low_spender|           3|\n",
            "|    12|      iphone|         7079|        1|              36|         2|          1|     20.0|            1|             13|214.98999786376953| big_spender|           1|\n",
            "|    12|      iphone|         7741|        2|             110|        12|          0|      0.0|            0|             13|214.98999786376953| big_spender|           2|\n",
            "+------+------------+-------------+---------+----------------+----------+-----------+---------+-------------+---------------+------------------+------------+------------+\n",
            "only showing top 20 rows\n",
            "\n"
          ]
        }
      ]
    },
    {
      "cell_type": "code",
      "source": [
        "df_early.groupby('userId', 'platformType').count().show()"
      ],
      "metadata": {
        "id": "DiferdNa75Tn",
        "colab": {
          "base_uri": "https://localhost:8080/"
        },
        "outputId": "3d230b01-b11a-412a-85c1-aae01fc69e34"
      },
      "execution_count": null,
      "outputs": [
        {
          "output_type": "stream",
          "name": "stdout",
          "text": [
            "+------+------------+-----+\n",
            "|userId|platformType|count|\n",
            "+------+------------+-----+\n",
            "|     0|      iphone|    3|\n",
            "|     1|     android|    3|\n",
            "|     2|      iphone|    3|\n",
            "|     6|      iphone|    1|\n",
            "|     8|      iphone|    2|\n",
            "|     9|      iphone|    3|\n",
            "|    10|       linux|    3|\n",
            "|    12|      iphone|    3|\n",
            "|    13|     android|    2|\n",
            "|    14|       linux|    1|\n",
            "|    15|     windows|    2|\n",
            "|    16|     android|    3|\n",
            "|    17|     android|    2|\n",
            "|    20|      iphone|    1|\n",
            "|    21|     android|    3|\n",
            "|    23|     android|    3|\n",
            "|    25|         mac|    3|\n",
            "|    26|     windows|    2|\n",
            "|    27|         mac|    1|\n",
            "|    28|      iphone|    3|\n",
            "+------+------------+-----+\n",
            "only showing top 20 rows\n",
            "\n"
          ]
        }
      ]
    },
    {
      "cell_type": "code",
      "source": [
        "import pyspark.sql.functions as F\n",
        "platform_users = df_early.select(\"userId\", \"platformType\") \\\n",
        "    .distinct() \\\n",
        "    .groupBy(\"userId\") \\\n",
        "    .agg(F.countDistinct(\"platformType\").alias(\"num_platforms\")) \\\n",
        "    .filter(\"num_platforms >= 2\")\n",
        "platform_users.show()"
      ],
      "metadata": {
        "id": "aLei7J_y8Rvd",
        "colab": {
          "base_uri": "https://localhost:8080/"
        },
        "outputId": "3da93801-5331-4d06-ede5-15222d5d5001"
      },
      "execution_count": null,
      "outputs": [
        {
          "output_type": "stream",
          "name": "stdout",
          "text": [
            "+------+-------------+\n",
            "|userId|num_platforms|\n",
            "+------+-------------+\n",
            "|   835|            2|\n",
            "|   967|            2|\n",
            "|  1265|            2|\n",
            "|  1267|            2|\n",
            "|  1760|            2|\n",
            "|  1933|            2|\n",
            "+------+-------------+\n",
            "\n"
          ]
        }
      ]
    },
    {
      "cell_type": "code",
      "source": [
        "df = df_early.join(platform_users, on=\"userId\", how=\"left_anti\")"
      ],
      "metadata": {
        "id": "Y0vGF7j-84T5"
      },
      "execution_count": null,
      "outputs": []
    },
    {
      "cell_type": "code",
      "source": [
        "from pyspark.sql.functions import avg, sum, max, count\n",
        "from pyspark.sql import Window\n",
        "from pyspark.sql import functions as F\n",
        "from pyspark.ml.linalg import Vectors\n",
        "from pyspark.sql.types import StructType, StructField, StringType, DoubleType\n",
        "from pyspark.ml.functions import vector_to_array\n",
        "from pyspark.ml.feature import VectorAssembler"
      ],
      "metadata": {
        "id": "nTP-oHPy7bQh"
      },
      "execution_count": null,
      "outputs": []
    },
    {
      "cell_type": "code",
      "source": [
        "agg_df = df.groupBy(\"userId\", \"platformType\").agg(\n",
        "    F.avg(\"count_gameclicks\").alias(\"avg_clicks\"),\n",
        "    F.avg(\"count_hits\").alias(\"avg_hits\"),\n",
        "    F.sum(\"count_buyId\").alias(\"total_early_buys\"),\n",
        "    F.avg(\"avg_price\").alias(\"early_avg_price\"),\n",
        "    F.max(\"made_purchase\").alias(\"has_early_purchase\"),\n",
        "    F.count(\"*\").alias(\"session_count\")\n",
        ")\n"
      ],
      "metadata": {
        "id": "_2dp3T6Nrhuv"
      },
      "execution_count": null,
      "outputs": []
    },
    {
      "cell_type": "code",
      "source": [
        "agg_df.show()"
      ],
      "metadata": {
        "id": "vAFkIAeYrhig",
        "colab": {
          "base_uri": "https://localhost:8080/"
        },
        "outputId": "e4db35a2-2506-486d-85b6-fea999652806"
      },
      "execution_count": null,
      "outputs": [
        {
          "output_type": "stream",
          "name": "stdout",
          "text": [
            "+------+------------+------------------+------------------+----------------+------------------+------------------+-------------+\n",
            "|userId|platformType|        avg_clicks|          avg_hits|total_early_buys|   early_avg_price|has_early_purchase|session_count|\n",
            "+------+------------+------------------+------------------+----------------+------------------+------------------+-------------+\n",
            "|     0|      iphone| 323.6666666666667|31.666666666666668|               0|               0.0|                 0|            3|\n",
            "|     1|     android|              87.0|              10.0|               2|               1.0|                 1|            3|\n",
            "|     2|      iphone|              27.0|               3.0|               0|               0.0|                 0|            3|\n",
            "|     6|      iphone|              90.0|               5.0|               0|               0.0|                 0|            1|\n",
            "|     8|      iphone|             103.5|              12.0|               3|               5.5|                 1|            2|\n",
            "|     9|      iphone|              54.0| 6.333333333333333|               2| 6.666666666666667|                 1|            3|\n",
            "|    10|       linux|             719.0| 81.66666666666667|               4|0.6666666666666666|                 1|            3|\n",
            "|    12|      iphone| 78.66666666666667| 7.333333333333333|               2|              10.0|                 1|            3|\n",
            "|    13|     android|             172.0|              16.5|               4|               4.0|                 1|            2|\n",
            "|    14|       linux|              93.0|               6.0|               0|               0.0|                 0|            1|\n",
            "|    15|     windows|              62.5|               7.0|               1|               0.5|                 1|            2|\n",
            "|    16|     android| 526.6666666666666|59.333333333333336|               0|               0.0|                 0|            3|\n",
            "|    17|     android|              85.0|               9.0|               0|               0.0|                 0|            2|\n",
            "|    20|      iphone|             133.0|              14.0|               0|               0.0|                 0|            1|\n",
            "|    21|     android|59.333333333333336|               4.0|               4|1.6666666666666667|                 1|            3|\n",
            "|    23|     android| 263.3333333333333|24.333333333333332|               0|               0.0|                 0|            3|\n",
            "|    25|         mac| 81.66666666666667| 9.666666666666666|               0|               0.0|                 0|            3|\n",
            "|    26|     windows|             671.5|              69.5|               2|               0.5|                 1|            2|\n",
            "|    27|         mac|              30.0|               1.0|               0|               0.0|                 0|            1|\n",
            "|    28|      iphone|38.333333333333336| 5.333333333333333|               0|               0.0|                 0|            3|\n",
            "+------+------------+------------------+------------------+----------------+------------------+------------------+-------------+\n",
            "only showing top 20 rows\n",
            "\n"
          ]
        }
      ]
    },
    {
      "cell_type": "code",
      "source": [
        "df_temp = agg_df.join(df, on=['userId', 'platformType'], how='left')"
      ],
      "metadata": {
        "id": "LEf8eWU69sFn"
      },
      "execution_count": null,
      "outputs": []
    },
    {
      "cell_type": "code",
      "source": [
        "df_temp = df_temp.drop('userSessionId','count_gameclicks','count_hits', 'count_buyId', 'avg_price', 'made_purchase','total_purchases','total_spent','has_early_purchase', 'session_rank')"
      ],
      "metadata": {
        "id": "BeXE3700-dJU"
      },
      "execution_count": null,
      "outputs": []
    },
    {
      "cell_type": "code",
      "source": [
        "df_temp.show()"
      ],
      "metadata": {
        "id": "MGo8d6tZ-Y27",
        "colab": {
          "base_uri": "https://localhost:8080/"
        },
        "outputId": "af1b6fc6-0f6e-4c39-ddde-058cf21baa2e"
      },
      "execution_count": null,
      "outputs": [
        {
          "output_type": "stream",
          "name": "stdout",
          "text": [
            "+------+------------+-----------------+------------------+----------------+------------------+-------------+---------+------------+\n",
            "|userId|platformType|       avg_clicks|          avg_hits|total_early_buys|   early_avg_price|session_count|teamLevel|spender_type|\n",
            "+------+------------+-----------------+------------------+----------------+------------------+-------------+---------+------------+\n",
            "|     0|      iphone|323.6666666666667|31.666666666666668|               0|               0.0|            3|        3| low_spender|\n",
            "|     0|      iphone|323.6666666666667|31.666666666666668|               0|               0.0|            3|        2| low_spender|\n",
            "|     0|      iphone|323.6666666666667|31.666666666666668|               0|               0.0|            3|        1| low_spender|\n",
            "|     1|     android|             87.0|              10.0|               2|               1.0|            3|        3| low_spender|\n",
            "|     1|     android|             87.0|              10.0|               2|               1.0|            3|        2| low_spender|\n",
            "|     1|     android|             87.0|              10.0|               2|               1.0|            3|        1| low_spender|\n",
            "|     2|      iphone|             27.0|               3.0|               0|               0.0|            3|        5| low_spender|\n",
            "|     2|      iphone|             27.0|               3.0|               0|               0.0|            3|        4| low_spender|\n",
            "|     2|      iphone|             27.0|               3.0|               0|               0.0|            3|        3| low_spender|\n",
            "|     6|      iphone|             90.0|               5.0|               0|               0.0|            1|        7| low_spender|\n",
            "|     8|      iphone|            103.5|              12.0|               3|               5.5|            2|        5| low_spender|\n",
            "|     8|      iphone|            103.5|              12.0|               3|               5.5|            2|        4| low_spender|\n",
            "|     9|      iphone|             54.0| 6.333333333333333|               2| 6.666666666666667|            3|        4| big_spender|\n",
            "|     9|      iphone|             54.0| 6.333333333333333|               2| 6.666666666666667|            3|        3| big_spender|\n",
            "|     9|      iphone|             54.0| 6.333333333333333|               2| 6.666666666666667|            3|        2| big_spender|\n",
            "|    10|       linux|            719.0| 81.66666666666667|               4|0.6666666666666666|            3|        3| low_spender|\n",
            "|    10|       linux|            719.0| 81.66666666666667|               4|0.6666666666666666|            3|        2| low_spender|\n",
            "|    10|       linux|            719.0| 81.66666666666667|               4|0.6666666666666666|            3|        1| low_spender|\n",
            "|    12|      iphone|78.66666666666667| 7.333333333333333|               2|              10.0|            3|        3| big_spender|\n",
            "|    12|      iphone|78.66666666666667| 7.333333333333333|               2|              10.0|            3|        2| big_spender|\n",
            "+------+------------+-----------------+------------------+----------------+------------------+-------------+---------+------------+\n",
            "only showing top 20 rows\n",
            "\n"
          ]
        }
      ]
    },
    {
      "cell_type": "code",
      "source": [
        "df_temp.dtypes"
      ],
      "metadata": {
        "id": "VdsIOxYP_X-5",
        "colab": {
          "base_uri": "https://localhost:8080/"
        },
        "outputId": "a2fdef30-ca69-4ee7-ca3e-0a90a61b4fad"
      },
      "execution_count": null,
      "outputs": [
        {
          "output_type": "execute_result",
          "data": {
            "text/plain": [
              "[('userId', 'int'),\n",
              " ('platformType', 'string'),\n",
              " ('avg_clicks', 'double'),\n",
              " ('avg_hits', 'double'),\n",
              " ('total_early_buys', 'bigint'),\n",
              " ('early_avg_price', 'double'),\n",
              " ('session_count', 'bigint'),\n",
              " ('teamLevel', 'int'),\n",
              " ('spender_type', 'string')]"
            ]
          },
          "metadata": {},
          "execution_count": 56
        }
      ]
    },
    {
      "cell_type": "code",
      "source": [
        "team_feature = df_temp.groupBy(\"userId\").agg(\n",
        "    max(\"teamLevel\").cast(\"int\").alias(\"max_teamLevel\")\n",
        ")"
      ],
      "metadata": {
        "id": "tF94ct41A6CG"
      },
      "execution_count": null,
      "outputs": []
    },
    {
      "cell_type": "code",
      "source": [
        "final_features = df_temp.join(team_feature, on=\"userId\", how=\"left\")"
      ],
      "metadata": {
        "id": "MX59wL9HBYYT"
      },
      "execution_count": null,
      "outputs": []
    },
    {
      "cell_type": "code",
      "source": [
        "final_features = final_features.drop('teamLevel').distinct()"
      ],
      "metadata": {
        "id": "Obk1vObjBLt-"
      },
      "execution_count": null,
      "outputs": []
    },
    {
      "cell_type": "code",
      "source": [
        "final_features.show()"
      ],
      "metadata": {
        "id": "Pob9Vzb9BsbN",
        "colab": {
          "base_uri": "https://localhost:8080/"
        },
        "outputId": "3b09781b-d366-457a-bb35-1784f5827b49"
      },
      "execution_count": null,
      "outputs": [
        {
          "output_type": "stream",
          "name": "stdout",
          "text": [
            "+------+------------+------------------+------------------+----------------+------------------+-------------+------------+-------------+\n",
            "|userId|platformType|        avg_clicks|          avg_hits|total_early_buys|   early_avg_price|session_count|spender_type|max_teamLevel|\n",
            "+------+------------+------------------+------------------+----------------+------------------+-------------+------------+-------------+\n",
            "|     0|      iphone| 323.6666666666667|31.666666666666668|               0|               0.0|            3| low_spender|            3|\n",
            "|     1|     android|              87.0|              10.0|               2|               1.0|            3| low_spender|            3|\n",
            "|     2|      iphone|              27.0|               3.0|               0|               0.0|            3| low_spender|            5|\n",
            "|     6|      iphone|              90.0|               5.0|               0|               0.0|            1| low_spender|            7|\n",
            "|     8|      iphone|             103.5|              12.0|               3|               5.5|            2| low_spender|            5|\n",
            "|     9|      iphone|              54.0| 6.333333333333333|               2| 6.666666666666667|            3| big_spender|            4|\n",
            "|    10|       linux|             719.0| 81.66666666666667|               4|0.6666666666666666|            3| low_spender|            3|\n",
            "|    12|      iphone| 78.66666666666667| 7.333333333333333|               2|              10.0|            3| big_spender|            3|\n",
            "|    13|     android|             172.0|              16.5|               4|               4.0|            2| low_spender|            7|\n",
            "|    14|       linux|              93.0|               6.0|               0|               0.0|            1| low_spender|            7|\n",
            "|    15|     windows|              62.5|               7.0|               1|               0.5|            2| low_spender|            7|\n",
            "|    16|     android| 526.6666666666666|59.333333333333336|               0|               0.0|            3| low_spender|            3|\n",
            "|    17|     android|              85.0|               9.0|               0|               0.0|            2| low_spender|            7|\n",
            "|    20|      iphone|             133.0|              14.0|               0|               0.0|            1| low_spender|            6|\n",
            "|    21|     android|59.333333333333336|               4.0|               4|1.6666666666666667|            3| low_spender|            3|\n",
            "|    23|     android| 263.3333333333333|24.333333333333332|               0|               0.0|            3| low_spender|            5|\n",
            "|    25|         mac| 81.66666666666667| 9.666666666666666|               0|               0.0|            3| low_spender|            3|\n",
            "|    26|     windows|             671.5|              69.5|               2|               0.5|            2| low_spender|            2|\n",
            "|    27|         mac|              30.0|               1.0|               0|               0.0|            1| low_spender|            7|\n",
            "|    28|      iphone|38.333333333333336| 5.333333333333333|               0|               0.0|            3| low_spender|            3|\n",
            "+------+------------+------------------+------------------+----------------+------------------+-------------+------------+-------------+\n",
            "only showing top 20 rows\n",
            "\n"
          ]
        }
      ]
    },
    {
      "cell_type": "code",
      "source": [
        "from pyspark.ml.feature import StringIndexer, VectorAssembler\n",
        "from pyspark.ml.classification import RandomForestClassifier\n",
        "from pyspark.ml import Pipeline\n",
        "from pyspark.ml.feature import StringIndexer, OneHotEncoder\n",
        "from pyspark.ml.feature import StandardScaler"
      ],
      "metadata": {
        "id": "FxYC7lk9zPAE"
      },
      "execution_count": null,
      "outputs": []
    },
    {
      "cell_type": "code",
      "source": [
        "spender_indexer = StringIndexer(inputCol=\"spender_type\", outputCol=\"spender_type_index\")\n",
        "platform_indexer = StringIndexer(inputCol=\"platformType\", outputCol=\"platform_index\")\n",
        "final_features = spender_indexer.fit(final_features).transform(final_features)\n",
        "final_features = platform_indexer.fit(final_features).transform(final_features)"
      ],
      "metadata": {
        "id": "corvOOnnCA_3"
      },
      "execution_count": null,
      "outputs": []
    },
    {
      "cell_type": "code",
      "source": [
        "final_features = final_features.drop('platformType','spender_type')"
      ],
      "metadata": {
        "id": "8MuuYNwaCYAc"
      },
      "execution_count": null,
      "outputs": []
    },
    {
      "cell_type": "code",
      "source": [
        "final_features.show()"
      ],
      "metadata": {
        "id": "VenftNBUCiQi",
        "colab": {
          "base_uri": "https://localhost:8080/"
        },
        "outputId": "ea01daa3-4203-4c9f-d1bc-3fbc0b9cece5"
      },
      "execution_count": null,
      "outputs": [
        {
          "output_type": "stream",
          "name": "stdout",
          "text": [
            "+------+------------------+------------------+----------------+------------------+-------------+-------------+------------------+--------------+\n",
            "|userId|        avg_clicks|          avg_hits|total_early_buys|   early_avg_price|session_count|max_teamLevel|spender_type_index|platform_index|\n",
            "+------+------------------+------------------+----------------+------------------+-------------+-------------+------------------+--------------+\n",
            "|     0| 323.6666666666667|31.666666666666668|               0|               0.0|            3|            3|               0.0|           0.0|\n",
            "|     1|              87.0|              10.0|               2|               1.0|            3|            3|               0.0|           1.0|\n",
            "|     2|              27.0|               3.0|               0|               0.0|            3|            5|               0.0|           0.0|\n",
            "|     6|              90.0|               5.0|               0|               0.0|            1|            7|               0.0|           0.0|\n",
            "|     8|             103.5|              12.0|               3|               5.5|            2|            5|               0.0|           0.0|\n",
            "|     9|              54.0| 6.333333333333333|               2| 6.666666666666667|            3|            4|               1.0|           0.0|\n",
            "|    10|             719.0| 81.66666666666667|               4|0.6666666666666666|            3|            3|               0.0|           3.0|\n",
            "|    12| 78.66666666666667| 7.333333333333333|               2|              10.0|            3|            3|               1.0|           0.0|\n",
            "|    13|             172.0|              16.5|               4|               4.0|            2|            7|               0.0|           1.0|\n",
            "|    14|              93.0|               6.0|               0|               0.0|            1|            7|               0.0|           3.0|\n",
            "|    15|              62.5|               7.0|               1|               0.5|            2|            7|               0.0|           2.0|\n",
            "|    16| 526.6666666666666|59.333333333333336|               0|               0.0|            3|            3|               0.0|           1.0|\n",
            "|    17|              85.0|               9.0|               0|               0.0|            2|            7|               0.0|           1.0|\n",
            "|    20|             133.0|              14.0|               0|               0.0|            1|            6|               0.0|           0.0|\n",
            "|    21|59.333333333333336|               4.0|               4|1.6666666666666667|            3|            3|               0.0|           1.0|\n",
            "|    23| 263.3333333333333|24.333333333333332|               0|               0.0|            3|            5|               0.0|           1.0|\n",
            "|    25| 81.66666666666667| 9.666666666666666|               0|               0.0|            3|            3|               0.0|           4.0|\n",
            "|    26|             671.5|              69.5|               2|               0.5|            2|            2|               0.0|           2.0|\n",
            "|    27|              30.0|               1.0|               0|               0.0|            1|            7|               0.0|           4.0|\n",
            "|    28|38.333333333333336| 5.333333333333333|               0|               0.0|            3|            3|               0.0|           0.0|\n",
            "+------+------------------+------------------+----------------+------------------+-------------+-------------+------------------+--------------+\n",
            "only showing top 20 rows\n",
            "\n"
          ]
        }
      ]
    },
    {
      "cell_type": "code",
      "source": [
        "encoder = OneHotEncoder(\n",
        "    inputCols=[ \"platform_index\"],\n",
        "    outputCols=[ \"platform_ohe\"]\n",
        ")\n",
        "final_features = encoder.fit(final_features).transform(final_features)"
      ],
      "metadata": {
        "id": "oxy1zqsSDNs9"
      },
      "execution_count": null,
      "outputs": []
    },
    {
      "cell_type": "code",
      "source": [
        "final_features = final_features.drop('platform_index')"
      ],
      "metadata": {
        "id": "tiJAzCftDTmB"
      },
      "execution_count": null,
      "outputs": []
    },
    {
      "cell_type": "code",
      "source": [
        "numeric_cols = [\n",
        "    \"avg_clicks\",\n",
        "    \"avg_hits\",\n",
        "    \"total_early_buys\",\n",
        "    \"early_avg_price\",\n",
        "    \"session_count\",\n",
        "    \"max_teamLevel\"\n",
        "]\n",
        "\n",
        "pre_assembled = VectorAssembler(inputCols=numeric_cols, outputCol=\"numeric_vector\").transform(final_features)\n",
        "\n",
        "scaler = StandardScaler(inputCol=\"numeric_vector\", outputCol=\"scaled_numeric\", withMean=True, withStd=True)\n",
        "scaler_model = scaler.fit(pre_assembled)\n",
        "scaled_df = scaler_model.transform(pre_assembled)\n",
        "final_assembler = VectorAssembler(\n",
        "    inputCols=[\n",
        "    \"scaled_numeric\",\n",
        "    \"max_teamLevel\", \"platform_ohe\"],\n",
        "    outputCol=\"features\"\n",
        ")\n",
        "final_df = final_assembler.transform(scaled_df)\n"
      ],
      "metadata": {
        "id": "P9VFti4GCpH-"
      },
      "execution_count": null,
      "outputs": []
    },
    {
      "cell_type": "code",
      "source": [
        "final_df.show()"
      ],
      "metadata": {
        "id": "aUNl-Z0x7ffm",
        "colab": {
          "base_uri": "https://localhost:8080/"
        },
        "outputId": "a9c1ecfe-1eeb-480b-9424-41a09b63b1d4"
      },
      "execution_count": null,
      "outputs": [
        {
          "output_type": "stream",
          "name": "stdout",
          "text": [
            "+------+------------------+------------------+----------------+------------------+-------------+-------------+------------------+-------------+--------------------+--------------------+--------------------+\n",
            "|userId|        avg_clicks|          avg_hits|total_early_buys|   early_avg_price|session_count|max_teamLevel|spender_type_index| platform_ohe|      numeric_vector|      scaled_numeric|            features|\n",
            "+------+------------------+------------------+----------------+------------------+-------------+-------------+------------------+-------------+--------------------+--------------------+--------------------+\n",
            "|     0| 323.6666666666667|31.666666666666668|               0|               0.0|            3|            3|               0.0|(4,[0],[1.0])|[323.666666666666...|[1.41554519523660...|[1.41554519523660...|\n",
            "|     1|              87.0|              10.0|               2|               1.0|            3|            3|               0.0|(4,[1],[1.0])|[87.0,10.0,2.0,1....|[-0.4393581930263...|[-0.4393581930263...|\n",
            "|     2|              27.0|               3.0|               0|               0.0|            3|            5|               0.0|(4,[0],[1.0])|[27.0,3.0,0.0,0.0...|[-0.9096153900508...|[-0.9096153900508...|\n",
            "|     6|              90.0|               5.0|               0|               0.0|            1|            7|               0.0|(4,[0],[1.0])|[90.0,5.0,0.0,0.0...|[-0.4158453331751...|[-0.4158453331751...|\n",
            "|     8|             103.5|              12.0|               3|               5.5|            2|            5|               0.0|(4,[0],[1.0])|[103.5,12.0,3.0,5...|[-0.3100374638446...|[-0.3100374638446...|\n",
            "|     9|              54.0| 6.333333333333333|               2| 6.666666666666667|            3|            4|               1.0|(4,[0],[1.0])|[54.0,6.333333333...|[-0.6979996513898...|[-0.6979996513898...|\n",
            "|    10|             719.0| 81.66666666666667|               4|0.6666666666666666|            3|            3|               0.0|(4,[3],[1.0])|[719.0,81.6666666...|[4.51401761563086...|[4.51401761563086...|\n",
            "|    12| 78.66666666666667| 7.333333333333333|               2|              10.0|            3|            3|               1.0|(4,[0],[1.0])|[78.6666666666666...|[-0.5046716926131...|[-0.5046716926131...|\n",
            "|    13|             172.0|              16.5|               4|               4.0|            2|            7|               0.0|(4,[1],[1.0])|[172.0,16.5,4.0,4...|[0.22683950275820...|[0.22683950275820...|\n",
            "|    14|              93.0|               6.0|               0|               0.0|            1|            7|               0.0|(4,[3],[1.0])|[93.0,6.0,0.0,0.0...|[-0.3923324733239...|[-0.3923324733239...|\n",
            "|    15|              62.5|               7.0|               1|               0.5|            2|            7|               0.0|(4,[2],[1.0])|[62.5,7.0,1.0,0.5...|[-0.6313798818113...|[-0.6313798818113...|\n",
            "|    16| 526.6666666666666|59.333333333333336|               0|               0.0|            3|            3|               0.0|(4,[1],[1.0])|[526.666666666666...|[3.00658204516923...|[3.00658204516923...|\n",
            "|    17|              85.0|               9.0|               0|               0.0|            2|            7|               0.0|(4,[1],[1.0])|[85.0,9.0,0.0,0.0...|[-0.4550334329272...|[-0.4550334329272...|\n",
            "|    20|             133.0|              14.0|               0|               0.0|            1|            6|               0.0|(4,[0],[1.0])|[133.0,14.0,0.0,0...|[-0.0788276753076...|[-0.0788276753076...|\n",
            "|    21|59.333333333333336|               4.0|               4|1.6666666666666667|            3|            3|               0.0|(4,[1],[1.0])|[59.3333333333333...|[-0.6561990116543...|[-0.6561990116543...|\n",
            "|    23| 263.3333333333333|24.333333333333332|               0|               0.0|            3|            5|               0.0|(4,[1],[1.0])|[263.333333333333...|[0.94267545822871...|[0.94267545822871...|\n",
            "|    25| 81.66666666666667| 9.666666666666666|               0|               0.0|            3|            3|               0.0|    (4,[],[])|[81.6666666666666...|[-0.4811588327618...|[-0.4811588327618...|\n",
            "|    26|             671.5|              69.5|               2|               0.5|            2|            2|               0.0|(4,[2],[1.0])|[671.5,69.5,2.0,0...|[4.14173066798652...|[4.14173066798652...|\n",
            "|    27|              30.0|               1.0|               0|               0.0|            1|            7|               0.0|    (4,[],[])|[30.0,1.0,0.0,0.0...|[-0.8861025301995...|[-0.8861025301995...|\n",
            "|    28|38.333333333333336| 5.333333333333333|               0|               0.0|            3|            3|               0.0|(4,[0],[1.0])|[38.3333333333333...|[-0.8207890306128...|[-0.8207890306128...|\n",
            "+------+------------------+------------------+----------------+------------------+-------------+-------------+------------------+-------------+--------------------+--------------------+--------------------+\n",
            "only showing top 20 rows\n",
            "\n"
          ]
        }
      ]
    },
    {
      "cell_type": "code",
      "source": [
        "train_df, test_df = final_df.randomSplit([0.8, 0.2], seed=42)"
      ],
      "metadata": {
        "id": "H3k8OglrHUJR"
      },
      "execution_count": null,
      "outputs": []
    },
    {
      "cell_type": "markdown",
      "source": [
        "# Phần 4: Models"
      ],
      "metadata": {
        "id": "UZXhWEGOcDyS"
      }
    },
    {
      "cell_type": "code",
      "source": [
        "from pyspark.ml.classification import LogisticRegression\n",
        "from pyspark.ml.evaluation import MulticlassClassificationEvaluator\n",
        "lr = LogisticRegression(\n",
        "    featuresCol=\"features\",\n",
        "    labelCol=\"spender_type_index\",\n",
        "    predictionCol=\"prediction\",\n",
        "    maxIter=20\n",
        ")\n",
        "\n",
        "lr_model = lr.fit(train_df)\n",
        "predictions = lr_model.transform(train_df)\n",
        "\n",
        "evaluator = MulticlassClassificationEvaluator(\n",
        "    labelCol=\"spender_type_index\",\n",
        "    predictionCol=\"prediction\",\n",
        "    metricName=\"accuracy\"\n",
        ")\n",
        "\n",
        "accuracy = evaluator.evaluate(predictions)\n",
        "print(f\"Train Accuracy (LogReg) = {accuracy:.4f}\")\n"
      ],
      "metadata": {
        "id": "uMcVZWopFBhp",
        "colab": {
          "base_uri": "https://localhost:8080/"
        },
        "outputId": "86550124-6386-47d6-b620-ca8c4b50d133"
      },
      "execution_count": null,
      "outputs": [
        {
          "output_type": "stream",
          "name": "stdout",
          "text": [
            "Train Accuracy (LogReg) = 0.9545\n"
          ]
        }
      ]
    },
    {
      "cell_type": "code",
      "source": [
        "predictions = lr_model.transform(test_df)\n",
        "evaluator = MulticlassClassificationEvaluator(\n",
        "    labelCol=\"spender_type_index\",\n",
        "    predictionCol=\"prediction\",\n",
        "    metricName=\"accuracy\"\n",
        ")\n",
        "\n",
        "accuracy = evaluator.evaluate(predictions)\n",
        "print(f\"Test Accuracy (LogReg) = {accuracy:.4f}\")"
      ],
      "metadata": {
        "id": "fqeutYDuHZUJ",
        "colab": {
          "base_uri": "https://localhost:8080/"
        },
        "outputId": "4daeee97-40f9-4ecd-b840-519b72c19535"
      },
      "execution_count": null,
      "outputs": [
        {
          "output_type": "stream",
          "name": "stdout",
          "text": [
            "Test Accuracy (LogReg) = 0.9293\n"
          ]
        }
      ]
    },
    {
      "cell_type": "code",
      "source": [
        "from pyspark.ml.classification import LogisticRegression\n",
        "from pyspark.ml.evaluation import MulticlassClassificationEvaluator, BinaryClassificationEvaluator"
      ],
      "metadata": {
        "id": "MzJOeBKec7HY"
      },
      "execution_count": null,
      "outputs": []
    },
    {
      "cell_type": "code",
      "source": [
        "from pyspark.ml.classification import DecisionTreeClassifier\n",
        "\n",
        "dt = DecisionTreeClassifier(\n",
        "    featuresCol=\"features\",\n",
        "    labelCol=\"spender_type_index\"\n",
        ")\n",
        "\n",
        "model = dt.fit(train_df)\n",
        "predictions = model.transform(train_df)\n",
        "\n",
        "accuracy_eval = MulticlassClassificationEvaluator(\n",
        "    labelCol=\"spender_type_index\",\n",
        "    predictionCol=\"prediction\",\n",
        "    metricName=\"accuracy\"\n",
        ")\n",
        "accuracy = accuracy_eval.evaluate(predictions)\n",
        "\n",
        "auc_eval = BinaryClassificationEvaluator(\n",
        "    labelCol=\"spender_type_index\",\n",
        "    rawPredictionCol=\"rawPrediction\",\n",
        "    metricName=\"areaUnderROC\"\n",
        ")\n",
        "auc = auc_eval.evaluate(predictions)\n",
        "\n",
        "print(f\"Decision Tree - Accuracy = {accuracy:.4f}, AUC = {auc:.4f}\")\n"
      ],
      "metadata": {
        "colab": {
          "base_uri": "https://localhost:8080/"
        },
        "id": "mF9VWd3sceI_",
        "outputId": "630c84e0-b953-4d5d-adf4-1d3591ffefc1"
      },
      "execution_count": null,
      "outputs": [
        {
          "output_type": "stream",
          "name": "stdout",
          "text": [
            "Decision Tree - Accuracy = 0.9645, AUC = 0.8595\n"
          ]
        }
      ]
    },
    {
      "cell_type": "code",
      "source": [
        "dt = DecisionTreeClassifier(\n",
        "    featuresCol='features',\n",
        "    labelCol='spender_type_index',\n",
        "    maxDepth=6,\n",
        "    maxBins=64\n",
        ")"
      ],
      "metadata": {
        "id": "Du3rRugId98Q"
      },
      "execution_count": null,
      "outputs": []
    },
    {
      "cell_type": "code",
      "source": [
        "model = dt.fit(train_df)\n",
        "predictions = model.transform(train_df)"
      ],
      "metadata": {
        "id": "Mbm3XE0TedIa"
      },
      "execution_count": null,
      "outputs": []
    },
    {
      "cell_type": "code",
      "source": [
        "accuracy = accuracy_eval.evaluate(predictions)"
      ],
      "metadata": {
        "id": "5JsZxnLbee0T"
      },
      "execution_count": null,
      "outputs": []
    },
    {
      "cell_type": "code",
      "source": [
        "auc = auc_eval.evaluate(predictions)"
      ],
      "metadata": {
        "id": "eh6omxODerSu"
      },
      "execution_count": null,
      "outputs": []
    },
    {
      "cell_type": "code",
      "source": [
        "print(f\"Decision Tree - Accuracy = {accuracy:.4f}, AUC = {auc:.4f}\")"
      ],
      "metadata": {
        "colab": {
          "base_uri": "https://localhost:8080/"
        },
        "id": "kgUwTIzufPQr",
        "outputId": "6744ab06-f7af-4565-9d93-a970281468b0"
      },
      "execution_count": null,
      "outputs": [
        {
          "output_type": "stream",
          "name": "stdout",
          "text": [
            "Decision Tree - Accuracy = 0.9402, AUC = 0.7023\n"
          ]
        }
      ]
    },
    {
      "cell_type": "code",
      "source": [
        "predictions = model.transform(test_df)\n",
        "accuracy = accuracy_eval.evaluate(predictions)\n",
        "auc = auc_eval.evaluate(predictions)\n",
        "print(f\"Decision Tree - Accuracy = {accuracy:.4f}, AUC = {auc:.4f}\")"
      ],
      "metadata": {
        "colab": {
          "base_uri": "https://localhost:8080/"
        },
        "id": "AWbntSqQinhD",
        "outputId": "6375d301-795e-4761-bad0-0fafc6ede0c5"
      },
      "execution_count": null,
      "outputs": [
        {
          "output_type": "stream",
          "name": "stdout",
          "text": [
            "Decision Tree - Accuracy = 0.9402, AUC = 0.7023\n"
          ]
        }
      ]
    },
    {
      "cell_type": "code",
      "source": [
        "dt = DecisionTreeClassifier(\n",
        "    featuresCol='features',\n",
        "    labelCol='spender_type_index',\n",
        "    maxDepth=7,\n",
        "    maxBins=64\n",
        ")"
      ],
      "metadata": {
        "id": "xKqXYbfZjb-C"
      },
      "execution_count": null,
      "outputs": []
    },
    {
      "cell_type": "code",
      "source": [
        "model = dt.fit(train_df)\n",
        "predictions = model.transform(train_df)\n",
        "accuracy = accuracy_eval.evaluate(predictions)\n",
        "auc = auc_eval.evaluate(predictions)\n",
        "print(f\"Decision Tree Train - Accuracy = {accuracy:.4f}, AUC = {auc:.4f}\")"
      ],
      "metadata": {
        "colab": {
          "base_uri": "https://localhost:8080/"
        },
        "id": "8JrYVV77jyrS",
        "outputId": "4cbacf8d-4d3c-4005-e568-ea6e6addeb1b"
      },
      "execution_count": null,
      "outputs": [
        {
          "output_type": "stream",
          "name": "stdout",
          "text": [
            "Decision Tree Train - Accuracy = 0.9767, AUC = 0.7611\n"
          ]
        }
      ]
    },
    {
      "cell_type": "code",
      "source": [
        "predictions = model.transform(test_df)\n",
        "accuracy = accuracy_eval.evaluate(predictions)\n",
        "auc = auc_eval.evaluate(predictions)\n",
        "print(f\"Decision Tree - Accuracy = {accuracy:.4f}, AUC = {auc:.4f}\")"
      ],
      "metadata": {
        "colab": {
          "base_uri": "https://localhost:8080/"
        },
        "id": "OWo-vRYTj7oL",
        "outputId": "aa86ad0e-cf94-477b-e81c-fbe51c8445fe"
      },
      "execution_count": null,
      "outputs": [
        {
          "output_type": "stream",
          "name": "stdout",
          "text": [
            "Decision Tree - Accuracy = 0.9457, AUC = 0.6734\n"
          ]
        }
      ]
    },
    {
      "cell_type": "code",
      "source": [
        "rf = RandomForestClassifier(\n",
        "    featuresCol=\"features\",\n",
        "    labelCol=\"spender_type_index\",\n",
        "    numTrees=50\n",
        ")"
      ],
      "metadata": {
        "id": "HVwKlXd-kN54"
      },
      "execution_count": null,
      "outputs": []
    },
    {
      "cell_type": "code",
      "source": [
        "model = rf.fit(train_df)\n",
        "predictions = model.transform(train_df)\n",
        "accuracy = accuracy_eval.evaluate(predictions)\n",
        "auc = auc_eval.evaluate(predictions)\n",
        "print(f\"Decision Tree Train - Accuracy = {accuracy:.4f}, AUC = {auc:.4f}\")"
      ],
      "metadata": {
        "colab": {
          "base_uri": "https://localhost:8080/"
        },
        "id": "PSjbP95TkxbR",
        "outputId": "a451e0f3-d3d9-4ae1-d48d-6e7ee44b9e47"
      },
      "execution_count": null,
      "outputs": [
        {
          "output_type": "stream",
          "name": "stdout",
          "text": [
            "Decision Tree Train - Accuracy = 0.9612, AUC = 0.9729\n"
          ]
        }
      ]
    },
    {
      "cell_type": "code",
      "source": [
        "predictions = model.transform(test_df)\n",
        "accuracy = accuracy_eval.evaluate(predictions)\n",
        "auc = auc_eval.evaluate(predictions)\n",
        "print(f\"Decision Tree - Accuracy = {accuracy:.4f}, AUC = {auc:.4f}\")"
      ],
      "metadata": {
        "colab": {
          "base_uri": "https://localhost:8080/"
        },
        "id": "w0yjUqeokzeM",
        "outputId": "f33ea2ab-cd82-4627-921a-668b88a5c2e5"
      },
      "execution_count": null,
      "outputs": [
        {
          "output_type": "stream",
          "name": "stdout",
          "text": [
            "Decision Tree - Accuracy = 0.9348, AUC = 0.9592\n"
          ]
        }
      ]
    },
    {
      "cell_type": "code",
      "source": [
        "rf = RandomForestClassifier(\n",
        "    featuresCol=\"features\",\n",
        "    labelCol=\"spender_type_index\",\n",
        "    numTrees=100\n",
        ")"
      ],
      "metadata": {
        "id": "myXINmJ9k5zR"
      },
      "execution_count": null,
      "outputs": []
    },
    {
      "cell_type": "code",
      "source": [
        "model = rf.fit(train_df)\n",
        "predictions = model.transform(train_df)\n",
        "accuracy = accuracy_eval.evaluate(predictions)\n",
        "auc = auc_eval.evaluate(predictions)\n",
        "print(f\"RandomForest Train - Accuracy = {accuracy:.4f}, AUC = {auc:.4f}\")"
      ],
      "metadata": {
        "colab": {
          "base_uri": "https://localhost:8080/"
        },
        "id": "teTYl1fqk-WQ",
        "outputId": "85f5a069-1027-4fc2-f7e6-7d893bec158e"
      },
      "execution_count": null,
      "outputs": [
        {
          "output_type": "stream",
          "name": "stdout",
          "text": [
            "RandomForest Train - Accuracy = 0.9645, AUC = 0.9784\n"
          ]
        }
      ]
    },
    {
      "cell_type": "code",
      "source": [
        "predictions = model.transform(test_df)\n",
        "accuracy = accuracy_eval.evaluate(predictions)\n",
        "auc = auc_eval.evaluate(predictions)\n",
        "print(f\"RandomForest Tree - Accuracy = {accuracy:.4f}, AUC = {auc:.4f}\")"
      ],
      "metadata": {
        "colab": {
          "base_uri": "https://localhost:8080/"
        },
        "id": "Or1vniLHk_2t",
        "outputId": "4378102e-f57c-4595-8b35-e61f39b2be29"
      },
      "execution_count": null,
      "outputs": [
        {
          "output_type": "stream",
          "name": "stdout",
          "text": [
            "RandomForest Tree - Accuracy = 0.9402, AUC = 0.9626\n"
          ]
        }
      ]
    },
    {
      "cell_type": "code",
      "source": [
        "from pyspark.ml.classification import GBTClassifier\n",
        "\n",
        "gbt = GBTClassifier(\n",
        "    featuresCol=\"features\",\n",
        "    labelCol=\"spender_type_index\",\n",
        "    maxIter=3,\n",
        "    maxDepth=3,\n",
        "    stepSize=0.8\n",
        ")\n",
        "model = gbt.fit(train_df)\n",
        "predictions = model.transform(train_df)\n",
        "accuracy = accuracy_eval.evaluate(predictions)\n",
        "auc = auc_eval.evaluate(predictions)\n",
        "print(f\"GBT Train - Accuracy = {accuracy:.4f}, AUC = {auc:.4f}\")\n",
        "predictions = model.transform(test_df)\n",
        "accuracy = accuracy_eval.evaluate(predictions)\n",
        "auc = auc_eval.evaluate(predictions)\n",
        "print(f\"GBT Test - Accuracy = {accuracy:.4f}, AUC = {auc:.4f}\")"
      ],
      "metadata": {
        "colab": {
          "base_uri": "https://localhost:8080/",
          "height": 564
        },
        "id": "grlp475jlGVG",
        "outputId": "13ec8d9a-3649-46cf-f160-e42e341ba972"
      },
      "execution_count": null,
      "outputs": [
        {
          "output_type": "stream",
          "name": "stderr",
          "text": [
            "ERROR:root:KeyboardInterrupt while sending command.\n",
            "Traceback (most recent call last):\n",
            "  File \"/usr/local/lib/python3.11/dist-packages/py4j/java_gateway.py\", line 1038, in send_command\n",
            "    response = connection.send_command(command)\n",
            "               ^^^^^^^^^^^^^^^^^^^^^^^^^^^^^^^^\n",
            "  File \"/usr/local/lib/python3.11/dist-packages/py4j/clientserver.py\", line 511, in send_command\n",
            "    answer = smart_decode(self.stream.readline()[:-1])\n",
            "                          ^^^^^^^^^^^^^^^^^^^^^^\n",
            "  File \"/usr/lib/python3.11/socket.py\", line 718, in readinto\n",
            "    return self._sock.recv_into(b)\n",
            "           ^^^^^^^^^^^^^^^^^^^^^^^\n",
            "KeyboardInterrupt\n"
          ]
        },
        {
          "output_type": "error",
          "ename": "KeyboardInterrupt",
          "evalue": "",
          "traceback": [
            "\u001b[0;31m---------------------------------------------------------------------------\u001b[0m",
            "\u001b[0;31mKeyboardInterrupt\u001b[0m                         Traceback (most recent call last)",
            "\u001b[0;32m<ipython-input-89-01e331138909>\u001b[0m in \u001b[0;36m<cell line: 0>\u001b[0;34m()\u001b[0m\n\u001b[1;32m      9\u001b[0m )\n\u001b[1;32m     10\u001b[0m \u001b[0mmodel\u001b[0m \u001b[0;34m=\u001b[0m \u001b[0mgbt\u001b[0m\u001b[0;34m.\u001b[0m\u001b[0mfit\u001b[0m\u001b[0;34m(\u001b[0m\u001b[0mtrain_df\u001b[0m\u001b[0;34m)\u001b[0m\u001b[0;34m\u001b[0m\u001b[0;34m\u001b[0m\u001b[0m\n\u001b[0;32m---> 11\u001b[0;31m \u001b[0mpredictions\u001b[0m \u001b[0;34m=\u001b[0m \u001b[0mmodel\u001b[0m\u001b[0;34m.\u001b[0m\u001b[0mtransform\u001b[0m\u001b[0;34m(\u001b[0m\u001b[0mtrain_df\u001b[0m\u001b[0;34m)\u001b[0m\u001b[0;34m\u001b[0m\u001b[0;34m\u001b[0m\u001b[0m\n\u001b[0m\u001b[1;32m     12\u001b[0m \u001b[0maccuracy\u001b[0m \u001b[0;34m=\u001b[0m \u001b[0maccuracy_eval\u001b[0m\u001b[0;34m.\u001b[0m\u001b[0mevaluate\u001b[0m\u001b[0;34m(\u001b[0m\u001b[0mpredictions\u001b[0m\u001b[0;34m)\u001b[0m\u001b[0;34m\u001b[0m\u001b[0;34m\u001b[0m\u001b[0m\n\u001b[1;32m     13\u001b[0m \u001b[0mauc\u001b[0m \u001b[0;34m=\u001b[0m \u001b[0mauc_eval\u001b[0m\u001b[0;34m.\u001b[0m\u001b[0mevaluate\u001b[0m\u001b[0;34m(\u001b[0m\u001b[0mpredictions\u001b[0m\u001b[0;34m)\u001b[0m\u001b[0;34m\u001b[0m\u001b[0;34m\u001b[0m\u001b[0m\n",
            "\u001b[0;32m/usr/local/lib/python3.11/dist-packages/pyspark/ml/base.py\u001b[0m in \u001b[0;36mtransform\u001b[0;34m(self, dataset, params)\u001b[0m\n\u001b[1;32m    260\u001b[0m                 \u001b[0;32mreturn\u001b[0m \u001b[0mself\u001b[0m\u001b[0;34m.\u001b[0m\u001b[0mcopy\u001b[0m\u001b[0;34m(\u001b[0m\u001b[0mparams\u001b[0m\u001b[0;34m)\u001b[0m\u001b[0;34m.\u001b[0m\u001b[0m_transform\u001b[0m\u001b[0;34m(\u001b[0m\u001b[0mdataset\u001b[0m\u001b[0;34m)\u001b[0m\u001b[0;34m\u001b[0m\u001b[0;34m\u001b[0m\u001b[0m\n\u001b[1;32m    261\u001b[0m             \u001b[0;32melse\u001b[0m\u001b[0;34m:\u001b[0m\u001b[0;34m\u001b[0m\u001b[0;34m\u001b[0m\u001b[0m\n\u001b[0;32m--> 262\u001b[0;31m                 \u001b[0;32mreturn\u001b[0m \u001b[0mself\u001b[0m\u001b[0;34m.\u001b[0m\u001b[0m_transform\u001b[0m\u001b[0;34m(\u001b[0m\u001b[0mdataset\u001b[0m\u001b[0;34m)\u001b[0m\u001b[0;34m\u001b[0m\u001b[0;34m\u001b[0m\u001b[0m\n\u001b[0m\u001b[1;32m    263\u001b[0m         \u001b[0;32melse\u001b[0m\u001b[0;34m:\u001b[0m\u001b[0;34m\u001b[0m\u001b[0;34m\u001b[0m\u001b[0m\n\u001b[1;32m    264\u001b[0m             \u001b[0;32mraise\u001b[0m \u001b[0mTypeError\u001b[0m\u001b[0;34m(\u001b[0m\u001b[0;34m\"Params must be a param map but got %s.\"\u001b[0m \u001b[0;34m%\u001b[0m \u001b[0mtype\u001b[0m\u001b[0;34m(\u001b[0m\u001b[0mparams\u001b[0m\u001b[0;34m)\u001b[0m\u001b[0;34m)\u001b[0m\u001b[0;34m\u001b[0m\u001b[0;34m\u001b[0m\u001b[0m\n",
            "\u001b[0;32m/usr/local/lib/python3.11/dist-packages/pyspark/ml/wrapper.py\u001b[0m in \u001b[0;36m_transform\u001b[0;34m(self, dataset)\u001b[0m\n\u001b[1;32m    396\u001b[0m \u001b[0;34m\u001b[0m\u001b[0m\n\u001b[1;32m    397\u001b[0m         \u001b[0mself\u001b[0m\u001b[0;34m.\u001b[0m\u001b[0m_transfer_params_to_java\u001b[0m\u001b[0;34m(\u001b[0m\u001b[0;34m)\u001b[0m\u001b[0;34m\u001b[0m\u001b[0;34m\u001b[0m\u001b[0m\n\u001b[0;32m--> 398\u001b[0;31m         \u001b[0;32mreturn\u001b[0m \u001b[0mDataFrame\u001b[0m\u001b[0;34m(\u001b[0m\u001b[0mself\u001b[0m\u001b[0;34m.\u001b[0m\u001b[0m_java_obj\u001b[0m\u001b[0;34m.\u001b[0m\u001b[0mtransform\u001b[0m\u001b[0;34m(\u001b[0m\u001b[0mdataset\u001b[0m\u001b[0;34m.\u001b[0m\u001b[0m_jdf\u001b[0m\u001b[0;34m)\u001b[0m\u001b[0;34m,\u001b[0m \u001b[0mdataset\u001b[0m\u001b[0;34m.\u001b[0m\u001b[0msparkSession\u001b[0m\u001b[0;34m)\u001b[0m\u001b[0;34m\u001b[0m\u001b[0;34m\u001b[0m\u001b[0m\n\u001b[0m\u001b[1;32m    399\u001b[0m \u001b[0;34m\u001b[0m\u001b[0m\n\u001b[1;32m    400\u001b[0m \u001b[0;34m\u001b[0m\u001b[0m\n",
            "\u001b[0;32m/usr/local/lib/python3.11/dist-packages/py4j/java_gateway.py\u001b[0m in \u001b[0;36m__call__\u001b[0;34m(self, *args)\u001b[0m\n\u001b[1;32m   1319\u001b[0m             \u001b[0mproto\u001b[0m\u001b[0;34m.\u001b[0m\u001b[0mEND_COMMAND_PART\u001b[0m\u001b[0;34m\u001b[0m\u001b[0;34m\u001b[0m\u001b[0m\n\u001b[1;32m   1320\u001b[0m \u001b[0;34m\u001b[0m\u001b[0m\n\u001b[0;32m-> 1321\u001b[0;31m         \u001b[0manswer\u001b[0m \u001b[0;34m=\u001b[0m \u001b[0mself\u001b[0m\u001b[0;34m.\u001b[0m\u001b[0mgateway_client\u001b[0m\u001b[0;34m.\u001b[0m\u001b[0msend_command\u001b[0m\u001b[0;34m(\u001b[0m\u001b[0mcommand\u001b[0m\u001b[0;34m)\u001b[0m\u001b[0;34m\u001b[0m\u001b[0;34m\u001b[0m\u001b[0m\n\u001b[0m\u001b[1;32m   1322\u001b[0m         return_value = get_return_value(\n\u001b[1;32m   1323\u001b[0m             answer, self.gateway_client, self.target_id, self.name)\n",
            "\u001b[0;32m/usr/local/lib/python3.11/dist-packages/py4j/java_gateway.py\u001b[0m in \u001b[0;36msend_command\u001b[0;34m(self, command, retry, binary)\u001b[0m\n\u001b[1;32m   1036\u001b[0m         \u001b[0mconnection\u001b[0m \u001b[0;34m=\u001b[0m \u001b[0mself\u001b[0m\u001b[0;34m.\u001b[0m\u001b[0m_get_connection\u001b[0m\u001b[0;34m(\u001b[0m\u001b[0;34m)\u001b[0m\u001b[0;34m\u001b[0m\u001b[0;34m\u001b[0m\u001b[0m\n\u001b[1;32m   1037\u001b[0m         \u001b[0;32mtry\u001b[0m\u001b[0;34m:\u001b[0m\u001b[0;34m\u001b[0m\u001b[0;34m\u001b[0m\u001b[0m\n\u001b[0;32m-> 1038\u001b[0;31m             \u001b[0mresponse\u001b[0m \u001b[0;34m=\u001b[0m \u001b[0mconnection\u001b[0m\u001b[0;34m.\u001b[0m\u001b[0msend_command\u001b[0m\u001b[0;34m(\u001b[0m\u001b[0mcommand\u001b[0m\u001b[0;34m)\u001b[0m\u001b[0;34m\u001b[0m\u001b[0;34m\u001b[0m\u001b[0m\n\u001b[0m\u001b[1;32m   1039\u001b[0m             \u001b[0;32mif\u001b[0m \u001b[0mbinary\u001b[0m\u001b[0;34m:\u001b[0m\u001b[0;34m\u001b[0m\u001b[0;34m\u001b[0m\u001b[0m\n\u001b[1;32m   1040\u001b[0m                 \u001b[0;32mreturn\u001b[0m \u001b[0mresponse\u001b[0m\u001b[0;34m,\u001b[0m \u001b[0mself\u001b[0m\u001b[0;34m.\u001b[0m\u001b[0m_create_connection_guard\u001b[0m\u001b[0;34m(\u001b[0m\u001b[0mconnection\u001b[0m\u001b[0;34m)\u001b[0m\u001b[0;34m\u001b[0m\u001b[0;34m\u001b[0m\u001b[0m\n",
            "\u001b[0;32m/usr/local/lib/python3.11/dist-packages/py4j/clientserver.py\u001b[0m in \u001b[0;36msend_command\u001b[0;34m(self, command)\u001b[0m\n\u001b[1;32m    509\u001b[0m         \u001b[0;32mtry\u001b[0m\u001b[0;34m:\u001b[0m\u001b[0;34m\u001b[0m\u001b[0;34m\u001b[0m\u001b[0m\n\u001b[1;32m    510\u001b[0m             \u001b[0;32mwhile\u001b[0m \u001b[0;32mTrue\u001b[0m\u001b[0;34m:\u001b[0m\u001b[0;34m\u001b[0m\u001b[0;34m\u001b[0m\u001b[0m\n\u001b[0;32m--> 511\u001b[0;31m                 \u001b[0manswer\u001b[0m \u001b[0;34m=\u001b[0m \u001b[0msmart_decode\u001b[0m\u001b[0;34m(\u001b[0m\u001b[0mself\u001b[0m\u001b[0;34m.\u001b[0m\u001b[0mstream\u001b[0m\u001b[0;34m.\u001b[0m\u001b[0mreadline\u001b[0m\u001b[0;34m(\u001b[0m\u001b[0;34m)\u001b[0m\u001b[0;34m[\u001b[0m\u001b[0;34m:\u001b[0m\u001b[0;34m-\u001b[0m\u001b[0;36m1\u001b[0m\u001b[0;34m]\u001b[0m\u001b[0;34m)\u001b[0m\u001b[0;34m\u001b[0m\u001b[0;34m\u001b[0m\u001b[0m\n\u001b[0m\u001b[1;32m    512\u001b[0m                 \u001b[0mlogger\u001b[0m\u001b[0;34m.\u001b[0m\u001b[0mdebug\u001b[0m\u001b[0;34m(\u001b[0m\u001b[0;34m\"Answer received: {0}\"\u001b[0m\u001b[0;34m.\u001b[0m\u001b[0mformat\u001b[0m\u001b[0;34m(\u001b[0m\u001b[0manswer\u001b[0m\u001b[0;34m)\u001b[0m\u001b[0;34m)\u001b[0m\u001b[0;34m\u001b[0m\u001b[0;34m\u001b[0m\u001b[0m\n\u001b[1;32m    513\u001b[0m                 \u001b[0;31m# Happens when a the other end is dead. There might be an empty\u001b[0m\u001b[0;34m\u001b[0m\u001b[0;34m\u001b[0m\u001b[0m\n",
            "\u001b[0;32m/usr/lib/python3.11/socket.py\u001b[0m in \u001b[0;36mreadinto\u001b[0;34m(self, b)\u001b[0m\n\u001b[1;32m    716\u001b[0m         \u001b[0;32mwhile\u001b[0m \u001b[0;32mTrue\u001b[0m\u001b[0;34m:\u001b[0m\u001b[0;34m\u001b[0m\u001b[0;34m\u001b[0m\u001b[0m\n\u001b[1;32m    717\u001b[0m             \u001b[0;32mtry\u001b[0m\u001b[0;34m:\u001b[0m\u001b[0;34m\u001b[0m\u001b[0;34m\u001b[0m\u001b[0m\n\u001b[0;32m--> 718\u001b[0;31m                 \u001b[0;32mreturn\u001b[0m \u001b[0mself\u001b[0m\u001b[0;34m.\u001b[0m\u001b[0m_sock\u001b[0m\u001b[0;34m.\u001b[0m\u001b[0mrecv_into\u001b[0m\u001b[0;34m(\u001b[0m\u001b[0mb\u001b[0m\u001b[0;34m)\u001b[0m\u001b[0;34m\u001b[0m\u001b[0;34m\u001b[0m\u001b[0m\n\u001b[0m\u001b[1;32m    719\u001b[0m             \u001b[0;32mexcept\u001b[0m \u001b[0mtimeout\u001b[0m\u001b[0;34m:\u001b[0m\u001b[0;34m\u001b[0m\u001b[0;34m\u001b[0m\u001b[0m\n\u001b[1;32m    720\u001b[0m                 \u001b[0mself\u001b[0m\u001b[0;34m.\u001b[0m\u001b[0m_timeout_occurred\u001b[0m \u001b[0;34m=\u001b[0m \u001b[0;32mTrue\u001b[0m\u001b[0;34m\u001b[0m\u001b[0;34m\u001b[0m\u001b[0m\n",
            "\u001b[0;31mKeyboardInterrupt\u001b[0m: "
          ]
        }
      ]
    },
    {
      "cell_type": "code",
      "source": [
        "from pyspark.sql.functions import when, lit\n",
        "total = 3849 + 770\n",
        "weight1 = total / (2 * 3849)\n",
        "weight2 = total / (2 * 770)\n",
        "train_df = train_df.withColumn(\n",
        "    \"classWeightCol\",\n",
        "    when(train_df[\"spender_type_index\"] == 0, lit(weight1))\n",
        "    .otherwise(lit(weight2))\n",
        ")"
      ],
      "metadata": {
        "id": "GIOBaTuZZ0n1"
      },
      "execution_count": null,
      "outputs": []
    },
    {
      "cell_type": "code",
      "source": [
        "from pyspark.ml.classification import LogisticRegression\n",
        "\n",
        "lr = LogisticRegression(\n",
        "    featuresCol=\"features\",\n",
        "    labelCol=\"spender_type_index\",\n",
        "    weightCol=\"classWeightCol\",\n",
        "    maxIter=100\n",
        ")\n",
        "\n",
        "lr_model = lr.fit(train_df)\n",
        "predictions = lr_model.transform(train_df)\n",
        "evaluator = MulticlassClassificationEvaluator(\n",
        "    labelCol=\"spender_type_index\",\n",
        "    predictionCol=\"prediction\",\n",
        "    metricName=\"accuracy\"\n",
        ")\n",
        "\n",
        "accuracy = evaluator.evaluate(predictions)\n",
        "print(f\"Train Accuracy (LogReg) = {accuracy:.4f}\")\n",
        "\n",
        "auc_eval = BinaryClassificationEvaluator(\n",
        "    labelCol=\"spender_type_index\",\n",
        "    rawPredictionCol=\"rawPrediction\",\n",
        "    metricName=\"areaUnderROC\"\n",
        ")\n",
        "\n",
        "auc = auc_eval.evaluate(predictions)\n",
        "print(f\"AUC (LogReg Weighted) = {auc:.4f}\")\n",
        "predictions = lr_model.transform(test_df)\n",
        "evaluator = MulticlassClassificationEvaluator(\n",
        "    labelCol=\"spender_type_index\",\n",
        "    predictionCol=\"prediction\",\n",
        "    metricName=\"accuracy\"\n",
        ")\n",
        "\n",
        "accuracy = evaluator.evaluate(predictions)\n",
        "print(f\"Test Accuracy (LogReg) = {accuracy:.4f}\")\n",
        "auc = auc_eval.evaluate(predictions)\n",
        "print(f\"AUC (LogReg Weighted) = {auc:.4f}\")"
      ],
      "metadata": {
        "id": "7hU4tUlBaUCY",
        "colab": {
          "base_uri": "https://localhost:8080/"
        },
        "outputId": "0560b5a3-9356-4d09-e37f-aed537201046"
      },
      "execution_count": null,
      "outputs": [
        {
          "output_type": "stream",
          "name": "stdout",
          "text": [
            "Train Accuracy (LogReg) = 0.9290\n",
            "AUC (LogReg Weighted) = 0.9647\n",
            "Test Accuracy (LogReg) = 0.9022\n",
            "AUC (LogReg Weighted) = 0.9587\n"
          ]
        }
      ]
    },
    {
      "cell_type": "code",
      "source": [
        "rf = RandomForestClassifier(\n",
        "    featuresCol=\"features\",\n",
        "    labelCol=\"spender_type_index\",\n",
        "    weightCol=\"classWeightCol\",\n",
        "    numTrees=90,\n",
        "    maxDepth=15,\n",
        "    maxBins=64\n",
        ")\n",
        "rf_model = rf.fit(train_df)\n",
        "train_preds = rf_model.transform(train_df)\n",
        "\n",
        "acc_eval = MulticlassClassificationEvaluator(\n",
        "    labelCol=\"spender_type_index\",\n",
        "    predictionCol=\"prediction\",\n",
        "    metricName=\"accuracy\"\n",
        ")\n",
        "train_acc = acc_eval.evaluate(train_preds)\n",
        "\n",
        "auc_eval = BinaryClassificationEvaluator(\n",
        "    labelCol=\"spender_type_index\",\n",
        "    rawPredictionCol=\"rawPrediction\",\n",
        "    metricName=\"areaUnderROC\"\n",
        ")\n",
        "train_auc = auc_eval.evaluate(train_preds)\n",
        "\n",
        "print(f\"[Train] Random Forest - Accuracy = {train_acc:.4f}, AUC = {train_auc:.4f}\")\n",
        "\n",
        "test_preds = rf_model.transform(test_df)\n",
        "\n",
        "acc_eval = MulticlassClassificationEvaluator(\n",
        "    labelCol=\"spender_type_index\",\n",
        "    predictionCol=\"prediction\",\n",
        "    metricName=\"accuracy\"\n",
        ")\n",
        "test_acc = acc_eval.evaluate(test_preds)\n",
        "\n",
        "auc_eval = BinaryClassificationEvaluator(\n",
        "    labelCol=\"spender_type_index\",\n",
        "    rawPredictionCol=\"rawPrediction\",\n",
        "    metricName=\"areaUnderROC\"\n",
        ")\n",
        "test_auc = auc_eval.evaluate(test_preds)\n",
        "\n",
        "print(f\"[Test] Random Forest - Accuracy = {test_acc:.4f}, AUC = {test_auc:.4f}\")\n"
      ],
      "metadata": {
        "colab": {
          "base_uri": "https://localhost:8080/"
        },
        "id": "kb-IP7XBtzLy",
        "outputId": "a37d7a8f-43c1-4668-9818-3cdb4249a214"
      },
      "execution_count": null,
      "outputs": [
        {
          "output_type": "stream",
          "name": "stdout",
          "text": [
            "[Train] Random Forest - Accuracy = 0.9878, AUC = 0.9993\n",
            "[Test] Random Forest - Accuracy = 0.9402, AUC = 0.9699\n"
          ]
        }
      ]
    },
    {
      "cell_type": "code",
      "source": [
        "gbt = GBTClassifier(\n",
        "    featuresCol=\"features\",\n",
        "    labelCol=\"spender_type_index\",\n",
        "    weightCol=\"classWeightCol\",\n",
        "    maxIter=40,\n",
        "    maxDepth=5,\n",
        "    stepSize=0.7\n",
        ")\n",
        "model = gbt.fit(train_df)\n",
        "predictions = model.transform(train_df)\n",
        "accuracy = accuracy_eval.evaluate(predictions)\n",
        "auc = auc_eval.evaluate(predictions)\n",
        "print(f\"GBT Train - Accuracy = {accuracy:.4f}, AUC = {auc:.4f}\")\n",
        "predictions = model.transform(test_df)\n",
        "accuracy = accuracy_eval.evaluate(predictions)\n",
        "auc = auc_eval.evaluate(predictions)\n",
        "print(f\"GBT Test - Accuracy = {accuracy:.4f}, AUC = {auc:.4f}\")\n"
      ],
      "metadata": {
        "colab": {
          "base_uri": "https://localhost:8080/"
        },
        "id": "2hovGN6FuoE7",
        "outputId": "0f6ffd99-efc4-482d-9f68-3f9a34917123"
      },
      "execution_count": null,
      "outputs": [
        {
          "output_type": "stream",
          "name": "stdout",
          "text": [
            "GBT Train - Accuracy = 0.9956, AUC = 0.9999\n",
            "GBT Test - Accuracy = 0.9348, AUC = 0.9526\n"
          ]
        }
      ]
    }
  ]
}
